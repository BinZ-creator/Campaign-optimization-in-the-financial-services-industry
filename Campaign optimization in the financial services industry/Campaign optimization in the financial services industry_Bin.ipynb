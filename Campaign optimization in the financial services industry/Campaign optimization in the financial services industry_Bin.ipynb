{
 "cells": [
  {
   "cell_type": "markdown",
   "metadata": {},
   "source": [
    "# Campaign optimization in the financial services industry"
   ]
  },
  {
   "cell_type": "markdown",
   "metadata": {},
   "source": [
    "Your goal:\n",
    "\n",
    "The bank wants to improve its revenues from direct marketing campaigns. It is your task to help them to achieve this goal in a data-driven way. Keep in mind following two limitations:\n",
    "\n",
    "1. They can only contact 120 customers next campaign period.\n",
    "\n",
    "2. Each customer can only be targeted once with one specific product offer\n",
    "\n",
    "You can offer 1,2 or 3 products in a single product offer, but there are different costs associated with it:\n",
    "\n",
    "* Offering one product: €2.00\n",
    "* Offering two products: €5.00\n",
    "* Offering three products: €10.00"
   ]
  },
  {
   "cell_type": "markdown",
   "metadata": {},
   "source": [
    "## Initiation"
   ]
  },
  {
   "cell_type": "code",
   "execution_count": 252,
   "metadata": {},
   "outputs": [
    {
     "name": "stdout",
     "output_type": "stream",
     "text": [
      "Wall time: 996 µs\n"
     ]
    }
   ],
   "source": [
    "%%time\n",
    "# Data exploration\n",
    "import matplotlib.pyplot as plt\n",
    "\n",
    "# Data processing\n",
    "import pickle\n",
    "import numpy as np\n",
    "import pandas as pd\n",
    "from sklearn.impute import SimpleImputer\n",
    "from sklearn.preprocessing import OrdinalEncoder, OneHotEncoder, KBinsDiscretizer\n",
    "from sklearn.preprocessing import PolynomialFeatures\n",
    "from sklearn.preprocessing import MinMaxScaler\n",
    "from sklearn.feature_selection import mutual_info_classif, VarianceThreshold\n",
    "from sklearn.feature_selection import SelectFromModel\n",
    "from sklearn.decomposition import PCA\n",
    "\n",
    "# Modeling\n",
    "from sklearn.linear_model import LogisticRegression\n",
    "from sklearn.discriminant_analysis import LinearDiscriminantAnalysis\n",
    "from sklearn.tree import DecisionTreeClassifier\n",
    "from sklearn.ensemble import RandomForestClassifier\n",
    "from sklearn.ensemble import GradientBoostingClassifier, AdaBoostClassifier\n",
    "from sklearn.svm import LinearSVC\n",
    "from sklearn.neural_network import MLPClassifier\n",
    "from lightgbm import LGBMClassifier\n",
    "\n",
    "# Experimental setup\n",
    "from sklearn.model_selection import KFold, StratifiedKFold, cross_validate, GridSearchCV\n",
    "from imblearn.over_sampling import SMOTE, RandomOverSampler\n",
    "from imblearn.pipeline import Pipeline\n",
    "from sklearn.metrics import roc_auc_score\n",
    "from sklearn.model_selection import learning_curve\n",
    "\n",
    "import sys\n",
    "\n",
    "from pandas               import DataFrame\n",
    "from pandas               import Series\n",
    "from pandas               import read_csv\n",
    "from pandas               import get_dummies\n",
    "from numpy                import array\n",
    "from numpy                import random\n",
    "from numpy                import where\n",
    "from numpy                import nan\n",
    "from scipy.stats.mstats   import winsorize\n",
    "from sklearn.linear_model import LogisticRegression \n",
    "from sklearn.metrics      import auc\n",
    "from sklearn.metrics      import roc_auc_score\n",
    "from matplotlib           import pyplot\n",
    "\n",
    "from scipy import stats\n",
    "from scipy.stats import norm, skew\n",
    "from scipy.special import boxcox1p\n",
    "\n",
    "from sklearn.preprocessing import LabelEncoder\n",
    "from sklearn.linear_model import ElasticNet, Lasso, BayesianRidge, LassoLarsIC\n",
    "from sklearn.ensemble import RandomForestRegressor, GradientBoostingRegressor\n",
    "from sklearn.kernel_ridge import KernelRidge\n",
    "from sklearn.pipeline import make_pipeline\n",
    "from sklearn.preprocessing import RobustScaler\n",
    "from sklearn.base import BaseEstimator, TransformerMixin, RegressorMixin, clone\n",
    "from sklearn.model_selection import KFold, cross_val_score, train_test_split\n",
    "from sklearn.metrics import mean_squared_error\n",
    "import xgboost as xgb\n",
    "import lightgbm as lgb\n",
    "from scipy.stats          import pearsonr\n",
    "\n",
    "import seaborn as sns"
   ]
  },
  {
   "cell_type": "markdown",
   "metadata": {},
   "source": [
    "## 1. Manipulating Data"
   ]
  },
  {
   "cell_type": "code",
   "execution_count": 253,
   "metadata": {},
   "outputs": [
    {
     "name": "stdout",
     "output_type": "stream",
     "text": [
      "Wall time: 2.55 s\n"
     ]
    }
   ],
   "source": [
    "%%time\n",
    "# Read train, test\n",
    "# Description=pd.read_excel('./data/Case_data_cvt.xlsx',sheet_name='Description')\n",
    "Soc_Dem=pd.read_excel('./data/Case_data_cvt.xlsx',sheet_name='Soc_Dem')\n",
    "Actual_products=pd.read_excel('./data/Case_data_cvt.xlsx',sheet_name='Actual_products')\n",
    "Transaction_flows=pd.read_excel('./data/Case_data_cvt.xlsx',sheet_name='Transaction_flows')\n",
    "Product_sales=pd.read_excel('./data/Case_data_cvt.xlsx',sheet_name='Product_sales')"
   ]
  },
  {
   "cell_type": "code",
   "execution_count": 254,
   "metadata": {},
   "outputs": [
    {
     "data": {
      "text/plain": [
       "646"
      ]
     },
     "execution_count": 254,
     "metadata": {},
     "output_type": "execute_result"
    }
   ],
   "source": [
    "(1615-969)"
   ]
  },
  {
   "cell_type": "code",
   "execution_count": 255,
   "metadata": {},
   "outputs": [
    {
     "data": {
      "text/plain": [
       "0.4"
      ]
     },
     "execution_count": 255,
     "metadata": {},
     "output_type": "execute_result"
    }
   ],
   "source": [
    "(1615-969)/1615"
   ]
  },
  {
   "cell_type": "code",
   "execution_count": 256,
   "metadata": {},
   "outputs": [
    {
     "name": "stdout",
     "output_type": "stream",
     "text": [
      "<class 'pandas.core.frame.DataFrame'>\n",
      "RangeIndex: 1615 entries, 0 to 1614\n",
      "Data columns (total 4 columns):\n",
      " #   Column  Non-Null Count  Dtype \n",
      "---  ------  --------------  ----- \n",
      " 0   Client  1615 non-null   int64 \n",
      " 1   Gen     1612 non-null   object\n",
      " 2   Age     1615 non-null   int64 \n",
      " 3   LOR     1615 non-null   int64 \n",
      "dtypes: int64(3), object(1)\n",
      "memory usage: 50.6+ KB\n"
     ]
    },
    {
     "data": {
      "text/html": [
       "<div>\n",
       "<style scoped>\n",
       "    .dataframe tbody tr th:only-of-type {\n",
       "        vertical-align: middle;\n",
       "    }\n",
       "\n",
       "    .dataframe tbody tr th {\n",
       "        vertical-align: top;\n",
       "    }\n",
       "\n",
       "    .dataframe thead th {\n",
       "        text-align: right;\n",
       "    }\n",
       "</style>\n",
       "<table border=\"1\" class=\"dataframe\">\n",
       "  <thead>\n",
       "    <tr style=\"text-align: right;\">\n",
       "      <th></th>\n",
       "      <th>Client</th>\n",
       "      <th>Gen</th>\n",
       "      <th>Age</th>\n",
       "      <th>LOR</th>\n",
       "    </tr>\n",
       "  </thead>\n",
       "  <tbody>\n",
       "    <tr>\n",
       "      <th>0</th>\n",
       "      <td>909</td>\n",
       "      <td>M</td>\n",
       "      <td>21</td>\n",
       "      <td>27</td>\n",
       "    </tr>\n",
       "    <tr>\n",
       "      <th>1</th>\n",
       "      <td>1217</td>\n",
       "      <td>M</td>\n",
       "      <td>38</td>\n",
       "      <td>165</td>\n",
       "    </tr>\n",
       "    <tr>\n",
       "      <th>2</th>\n",
       "      <td>850</td>\n",
       "      <td>F</td>\n",
       "      <td>49</td>\n",
       "      <td>44</td>\n",
       "    </tr>\n",
       "    <tr>\n",
       "      <th>3</th>\n",
       "      <td>1473</td>\n",
       "      <td>M</td>\n",
       "      <td>54</td>\n",
       "      <td>34</td>\n",
       "    </tr>\n",
       "    <tr>\n",
       "      <th>4</th>\n",
       "      <td>1038</td>\n",
       "      <td>M</td>\n",
       "      <td>29</td>\n",
       "      <td>106</td>\n",
       "    </tr>\n",
       "  </tbody>\n",
       "</table>\n",
       "</div>"
      ],
      "text/plain": [
       "   Client Gen  Age  LOR\n",
       "0     909   M   21   27\n",
       "1    1217   M   38  165\n",
       "2     850   F   49   44\n",
       "3    1473   M   54   34\n",
       "4    1038   M   29  106"
      ]
     },
     "execution_count": 256,
     "metadata": {},
     "output_type": "execute_result"
    }
   ],
   "source": [
    "Soc_Dem.info()\n",
    "Soc_Dem.head()"
   ]
  },
  {
   "cell_type": "code",
   "execution_count": 257,
   "metadata": {},
   "outputs": [
    {
     "name": "stdout",
     "output_type": "stream",
     "text": [
      "<class 'pandas.core.frame.DataFrame'>\n",
      "RangeIndex: 1615 entries, 0 to 1614\n",
      "Data columns (total 13 columns):\n",
      " #   Column      Non-Null Count  Dtype  \n",
      "---  ------      --------------  -----  \n",
      " 0   Client      1615 non-null   int64  \n",
      " 1   Count_CA    1615 non-null   int64  \n",
      " 2   Count_SA    426 non-null    float64\n",
      " 3   Count_MF    306 non-null    float64\n",
      " 4   Count_OVD   419 non-null    float64\n",
      " 5   Count_CC    170 non-null    float64\n",
      " 6   Count_CL    135 non-null    float64\n",
      " 7   ActBal_CA   1615 non-null   float64\n",
      " 8   ActBal_SA   426 non-null    float64\n",
      " 9   ActBal_MF   306 non-null    float64\n",
      " 10  ActBal_OVD  419 non-null    float64\n",
      " 11  ActBal_CC   170 non-null    float64\n",
      " 12  ActBal_CL   135 non-null    float64\n",
      "dtypes: float64(11), int64(2)\n",
      "memory usage: 164.1 KB\n"
     ]
    },
    {
     "data": {
      "text/html": [
       "<div>\n",
       "<style scoped>\n",
       "    .dataframe tbody tr th:only-of-type {\n",
       "        vertical-align: middle;\n",
       "    }\n",
       "\n",
       "    .dataframe tbody tr th {\n",
       "        vertical-align: top;\n",
       "    }\n",
       "\n",
       "    .dataframe thead th {\n",
       "        text-align: right;\n",
       "    }\n",
       "</style>\n",
       "<table border=\"1\" class=\"dataframe\">\n",
       "  <thead>\n",
       "    <tr style=\"text-align: right;\">\n",
       "      <th></th>\n",
       "      <th>Client</th>\n",
       "      <th>Count_CA</th>\n",
       "      <th>Count_SA</th>\n",
       "      <th>Count_MF</th>\n",
       "      <th>Count_OVD</th>\n",
       "      <th>Count_CC</th>\n",
       "      <th>Count_CL</th>\n",
       "      <th>ActBal_CA</th>\n",
       "      <th>ActBal_SA</th>\n",
       "      <th>ActBal_MF</th>\n",
       "      <th>ActBal_OVD</th>\n",
       "      <th>ActBal_CC</th>\n",
       "      <th>ActBal_CL</th>\n",
       "    </tr>\n",
       "  </thead>\n",
       "  <tbody>\n",
       "    <tr>\n",
       "      <th>0</th>\n",
       "      <td>1</td>\n",
       "      <td>1</td>\n",
       "      <td>NaN</td>\n",
       "      <td>NaN</td>\n",
       "      <td>1.0</td>\n",
       "      <td>NaN</td>\n",
       "      <td>NaN</td>\n",
       "      <td>1333.802857</td>\n",
       "      <td>NaN</td>\n",
       "      <td>NaN</td>\n",
       "      <td>0.0</td>\n",
       "      <td>NaN</td>\n",
       "      <td>NaN</td>\n",
       "    </tr>\n",
       "    <tr>\n",
       "      <th>1</th>\n",
       "      <td>2</td>\n",
       "      <td>1</td>\n",
       "      <td>1.0</td>\n",
       "      <td>NaN</td>\n",
       "      <td>NaN</td>\n",
       "      <td>NaN</td>\n",
       "      <td>NaN</td>\n",
       "      <td>110.768571</td>\n",
       "      <td>13326.190357</td>\n",
       "      <td>NaN</td>\n",
       "      <td>NaN</td>\n",
       "      <td>NaN</td>\n",
       "      <td>NaN</td>\n",
       "    </tr>\n",
       "    <tr>\n",
       "      <th>2</th>\n",
       "      <td>3</td>\n",
       "      <td>1</td>\n",
       "      <td>NaN</td>\n",
       "      <td>1.0</td>\n",
       "      <td>NaN</td>\n",
       "      <td>NaN</td>\n",
       "      <td>NaN</td>\n",
       "      <td>482.654643</td>\n",
       "      <td>NaN</td>\n",
       "      <td>107.251786</td>\n",
       "      <td>NaN</td>\n",
       "      <td>NaN</td>\n",
       "      <td>NaN</td>\n",
       "    </tr>\n",
       "    <tr>\n",
       "      <th>3</th>\n",
       "      <td>4</td>\n",
       "      <td>1</td>\n",
       "      <td>1.0</td>\n",
       "      <td>NaN</td>\n",
       "      <td>NaN</td>\n",
       "      <td>1.0</td>\n",
       "      <td>NaN</td>\n",
       "      <td>1599.840714</td>\n",
       "      <td>76.437143</td>\n",
       "      <td>NaN</td>\n",
       "      <td>NaN</td>\n",
       "      <td>1110.381786</td>\n",
       "      <td>NaN</td>\n",
       "    </tr>\n",
       "    <tr>\n",
       "      <th>4</th>\n",
       "      <td>5</td>\n",
       "      <td>1</td>\n",
       "      <td>1.0</td>\n",
       "      <td>NaN</td>\n",
       "      <td>NaN</td>\n",
       "      <td>NaN</td>\n",
       "      <td>NaN</td>\n",
       "      <td>5353.483929</td>\n",
       "      <td>8079.715714</td>\n",
       "      <td>NaN</td>\n",
       "      <td>NaN</td>\n",
       "      <td>NaN</td>\n",
       "      <td>NaN</td>\n",
       "    </tr>\n",
       "  </tbody>\n",
       "</table>\n",
       "</div>"
      ],
      "text/plain": [
       "   Client  Count_CA  Count_SA  Count_MF  Count_OVD  Count_CC  Count_CL  \\\n",
       "0       1         1       NaN       NaN        1.0       NaN       NaN   \n",
       "1       2         1       1.0       NaN        NaN       NaN       NaN   \n",
       "2       3         1       NaN       1.0        NaN       NaN       NaN   \n",
       "3       4         1       1.0       NaN        NaN       1.0       NaN   \n",
       "4       5         1       1.0       NaN        NaN       NaN       NaN   \n",
       "\n",
       "     ActBal_CA     ActBal_SA   ActBal_MF  ActBal_OVD    ActBal_CC  ActBal_CL  \n",
       "0  1333.802857           NaN         NaN         0.0          NaN        NaN  \n",
       "1   110.768571  13326.190357         NaN         NaN          NaN        NaN  \n",
       "2   482.654643           NaN  107.251786         NaN          NaN        NaN  \n",
       "3  1599.840714     76.437143         NaN         NaN  1110.381786        NaN  \n",
       "4  5353.483929   8079.715714         NaN         NaN          NaN        NaN  "
      ]
     },
     "execution_count": 257,
     "metadata": {},
     "output_type": "execute_result"
    }
   ],
   "source": [
    "Actual_products.info()\n",
    "Actual_products.head()"
   ]
  },
  {
   "cell_type": "code",
   "execution_count": 258,
   "metadata": {
    "scrolled": false
   },
   "outputs": [
    {
     "name": "stdout",
     "output_type": "stream",
     "text": [
      "<class 'pandas.core.frame.DataFrame'>\n",
      "RangeIndex: 1587 entries, 0 to 1586\n",
      "Data columns (total 15 columns):\n",
      " #   Column                        Non-Null Count  Dtype  \n",
      "---  ------                        --------------  -----  \n",
      " 0   Client                        1587 non-null   int64  \n",
      " 1   VolumeCred                    1587 non-null   float64\n",
      " 2   VolumeCred_CA                 1587 non-null   float64\n",
      " 3   TransactionsCred              1587 non-null   int64  \n",
      " 4   TransactionsCred_CA           1587 non-null   int64  \n",
      " 5   VolumeDeb                     1587 non-null   float64\n",
      " 6   VolumeDeb_CA                  1587 non-null   float64\n",
      " 7   VolumeDebCash_Card            1587 non-null   float64\n",
      " 8   VolumeDebCashless_Card        1587 non-null   float64\n",
      " 9   VolumeDeb_PaymentOrder        1587 non-null   float64\n",
      " 10  TransactionsDeb               1587 non-null   int64  \n",
      " 11  TransactionsDeb_CA            1587 non-null   int64  \n",
      " 12  TransactionsDebCash_Card      1587 non-null   int64  \n",
      " 13  TransactionsDebCashless_Card  1587 non-null   int64  \n",
      " 14  TransactionsDeb_PaymentOrder  1587 non-null   int64  \n",
      "dtypes: float64(7), int64(8)\n",
      "memory usage: 186.1 KB\n"
     ]
    },
    {
     "data": {
      "text/html": [
       "<div>\n",
       "<style scoped>\n",
       "    .dataframe tbody tr th:only-of-type {\n",
       "        vertical-align: middle;\n",
       "    }\n",
       "\n",
       "    .dataframe tbody tr th {\n",
       "        vertical-align: top;\n",
       "    }\n",
       "\n",
       "    .dataframe thead th {\n",
       "        text-align: right;\n",
       "    }\n",
       "</style>\n",
       "<table border=\"1\" class=\"dataframe\">\n",
       "  <thead>\n",
       "    <tr style=\"text-align: right;\">\n",
       "      <th></th>\n",
       "      <th>Client</th>\n",
       "      <th>VolumeCred</th>\n",
       "      <th>VolumeCred_CA</th>\n",
       "      <th>TransactionsCred</th>\n",
       "      <th>TransactionsCred_CA</th>\n",
       "      <th>VolumeDeb</th>\n",
       "      <th>VolumeDeb_CA</th>\n",
       "      <th>VolumeDebCash_Card</th>\n",
       "      <th>VolumeDebCashless_Card</th>\n",
       "      <th>VolumeDeb_PaymentOrder</th>\n",
       "      <th>TransactionsDeb</th>\n",
       "      <th>TransactionsDeb_CA</th>\n",
       "      <th>TransactionsDebCash_Card</th>\n",
       "      <th>TransactionsDebCashless_Card</th>\n",
       "      <th>TransactionsDeb_PaymentOrder</th>\n",
       "    </tr>\n",
       "  </thead>\n",
       "  <tbody>\n",
       "    <tr>\n",
       "      <th>0</th>\n",
       "      <td>1017</td>\n",
       "      <td>0.005000</td>\n",
       "      <td>0.005000</td>\n",
       "      <td>1</td>\n",
       "      <td>1</td>\n",
       "      <td>118.046429</td>\n",
       "      <td>118.046429</td>\n",
       "      <td>25.000000</td>\n",
       "      <td>91.796429</td>\n",
       "      <td>0.000000</td>\n",
       "      <td>12</td>\n",
       "      <td>12</td>\n",
       "      <td>2</td>\n",
       "      <td>9</td>\n",
       "      <td>0</td>\n",
       "    </tr>\n",
       "    <tr>\n",
       "      <th>1</th>\n",
       "      <td>1456</td>\n",
       "      <td>364.772143</td>\n",
       "      <td>364.752857</td>\n",
       "      <td>4</td>\n",
       "      <td>3</td>\n",
       "      <td>774.980000</td>\n",
       "      <td>774.980000</td>\n",
       "      <td>14.285714</td>\n",
       "      <td>497.444286</td>\n",
       "      <td>258.607143</td>\n",
       "      <td>28</td>\n",
       "      <td>28</td>\n",
       "      <td>1</td>\n",
       "      <td>20</td>\n",
       "      <td>5</td>\n",
       "    </tr>\n",
       "    <tr>\n",
       "      <th>2</th>\n",
       "      <td>545</td>\n",
       "      <td>2471.719286</td>\n",
       "      <td>2471.719286</td>\n",
       "      <td>14</td>\n",
       "      <td>14</td>\n",
       "      <td>2190.257143</td>\n",
       "      <td>2190.257143</td>\n",
       "      <td>303.571429</td>\n",
       "      <td>179.082143</td>\n",
       "      <td>1229.428571</td>\n",
       "      <td>23</td>\n",
       "      <td>23</td>\n",
       "      <td>3</td>\n",
       "      <td>5</td>\n",
       "      <td>12</td>\n",
       "    </tr>\n",
       "    <tr>\n",
       "      <th>3</th>\n",
       "      <td>667</td>\n",
       "      <td>1127.792857</td>\n",
       "      <td>1127.792857</td>\n",
       "      <td>4</td>\n",
       "      <td>4</td>\n",
       "      <td>1344.603571</td>\n",
       "      <td>1344.603571</td>\n",
       "      <td>642.857143</td>\n",
       "      <td>194.285714</td>\n",
       "      <td>249.321429</td>\n",
       "      <td>21</td>\n",
       "      <td>21</td>\n",
       "      <td>3</td>\n",
       "      <td>4</td>\n",
       "      <td>8</td>\n",
       "    </tr>\n",
       "    <tr>\n",
       "      <th>4</th>\n",
       "      <td>1381</td>\n",
       "      <td>571.618214</td>\n",
       "      <td>571.618214</td>\n",
       "      <td>3</td>\n",
       "      <td>3</td>\n",
       "      <td>57.071429</td>\n",
       "      <td>57.071429</td>\n",
       "      <td>10.714286</td>\n",
       "      <td>46.357143</td>\n",
       "      <td>0.000000</td>\n",
       "      <td>6</td>\n",
       "      <td>6</td>\n",
       "      <td>1</td>\n",
       "      <td>5</td>\n",
       "      <td>0</td>\n",
       "    </tr>\n",
       "  </tbody>\n",
       "</table>\n",
       "</div>"
      ],
      "text/plain": [
       "   Client   VolumeCred  VolumeCred_CA  TransactionsCred  TransactionsCred_CA  \\\n",
       "0    1017     0.005000       0.005000                 1                    1   \n",
       "1    1456   364.772143     364.752857                 4                    3   \n",
       "2     545  2471.719286    2471.719286                14                   14   \n",
       "3     667  1127.792857    1127.792857                 4                    4   \n",
       "4    1381   571.618214     571.618214                 3                    3   \n",
       "\n",
       "     VolumeDeb  VolumeDeb_CA  VolumeDebCash_Card  VolumeDebCashless_Card  \\\n",
       "0   118.046429    118.046429           25.000000               91.796429   \n",
       "1   774.980000    774.980000           14.285714              497.444286   \n",
       "2  2190.257143   2190.257143          303.571429              179.082143   \n",
       "3  1344.603571   1344.603571          642.857143              194.285714   \n",
       "4    57.071429     57.071429           10.714286               46.357143   \n",
       "\n",
       "   VolumeDeb_PaymentOrder  TransactionsDeb  TransactionsDeb_CA  \\\n",
       "0                0.000000               12                  12   \n",
       "1              258.607143               28                  28   \n",
       "2             1229.428571               23                  23   \n",
       "3              249.321429               21                  21   \n",
       "4                0.000000                6                   6   \n",
       "\n",
       "   TransactionsDebCash_Card  TransactionsDebCashless_Card  \\\n",
       "0                         2                             9   \n",
       "1                         1                            20   \n",
       "2                         3                             5   \n",
       "3                         3                             4   \n",
       "4                         1                             5   \n",
       "\n",
       "   TransactionsDeb_PaymentOrder  \n",
       "0                             0  \n",
       "1                             5  \n",
       "2                            12  \n",
       "3                             8  \n",
       "4                             0  "
      ]
     },
     "execution_count": 258,
     "metadata": {},
     "output_type": "execute_result"
    }
   ],
   "source": [
    "Transaction_flows.info()\n",
    "Transaction_flows.head()"
   ]
  },
  {
   "cell_type": "code",
   "execution_count": 259,
   "metadata": {
    "scrolled": false
   },
   "outputs": [
    {
     "name": "stdout",
     "output_type": "stream",
     "text": [
      "<class 'pandas.core.frame.DataFrame'>\n",
      "RangeIndex: 969 entries, 0 to 968\n",
      "Data columns (total 7 columns):\n",
      " #   Column      Non-Null Count  Dtype  \n",
      "---  ------      --------------  -----  \n",
      " 0   Client      969 non-null    int64  \n",
      " 1   Sale_MF     969 non-null    int64  \n",
      " 2   Sale_CC     969 non-null    int64  \n",
      " 3   Sale_CL     969 non-null    int64  \n",
      " 4   Revenue_MF  969 non-null    float64\n",
      " 5   Revenue_CC  969 non-null    float64\n",
      " 6   Revenue_CL  969 non-null    float64\n",
      "dtypes: float64(3), int64(4)\n",
      "memory usage: 53.1 KB\n"
     ]
    },
    {
     "data": {
      "text/html": [
       "<div>\n",
       "<style scoped>\n",
       "    .dataframe tbody tr th:only-of-type {\n",
       "        vertical-align: middle;\n",
       "    }\n",
       "\n",
       "    .dataframe tbody tr th {\n",
       "        vertical-align: top;\n",
       "    }\n",
       "\n",
       "    .dataframe thead th {\n",
       "        text-align: right;\n",
       "    }\n",
       "</style>\n",
       "<table border=\"1\" class=\"dataframe\">\n",
       "  <thead>\n",
       "    <tr style=\"text-align: right;\">\n",
       "      <th></th>\n",
       "      <th>Client</th>\n",
       "      <th>Sale_MF</th>\n",
       "      <th>Sale_CC</th>\n",
       "      <th>Sale_CL</th>\n",
       "      <th>Revenue_MF</th>\n",
       "      <th>Revenue_CC</th>\n",
       "      <th>Revenue_CL</th>\n",
       "    </tr>\n",
       "  </thead>\n",
       "  <tbody>\n",
       "    <tr>\n",
       "      <th>0</th>\n",
       "      <td>1094</td>\n",
       "      <td>0</td>\n",
       "      <td>1</td>\n",
       "      <td>0</td>\n",
       "      <td>0.000000</td>\n",
       "      <td>5.138571</td>\n",
       "      <td>0.0000</td>\n",
       "    </tr>\n",
       "    <tr>\n",
       "      <th>1</th>\n",
       "      <td>1484</td>\n",
       "      <td>1</td>\n",
       "      <td>0</td>\n",
       "      <td>1</td>\n",
       "      <td>25.609107</td>\n",
       "      <td>0.000000</td>\n",
       "      <td>8.7225</td>\n",
       "    </tr>\n",
       "    <tr>\n",
       "      <th>2</th>\n",
       "      <td>20</td>\n",
       "      <td>0</td>\n",
       "      <td>1</td>\n",
       "      <td>0</td>\n",
       "      <td>0.000000</td>\n",
       "      <td>3.822500</td>\n",
       "      <td>0.0000</td>\n",
       "    </tr>\n",
       "    <tr>\n",
       "      <th>3</th>\n",
       "      <td>1193</td>\n",
       "      <td>0</td>\n",
       "      <td>0</td>\n",
       "      <td>0</td>\n",
       "      <td>0.000000</td>\n",
       "      <td>0.000000</td>\n",
       "      <td>0.0000</td>\n",
       "    </tr>\n",
       "    <tr>\n",
       "      <th>4</th>\n",
       "      <td>142</td>\n",
       "      <td>0</td>\n",
       "      <td>0</td>\n",
       "      <td>0</td>\n",
       "      <td>0.000000</td>\n",
       "      <td>0.000000</td>\n",
       "      <td>0.0000</td>\n",
       "    </tr>\n",
       "  </tbody>\n",
       "</table>\n",
       "</div>"
      ],
      "text/plain": [
       "   Client  Sale_MF  Sale_CC  Sale_CL  Revenue_MF  Revenue_CC  Revenue_CL\n",
       "0    1094        0        1        0    0.000000    5.138571      0.0000\n",
       "1    1484        1        0        1   25.609107    0.000000      8.7225\n",
       "2      20        0        1        0    0.000000    3.822500      0.0000\n",
       "3    1193        0        0        0    0.000000    0.000000      0.0000\n",
       "4     142        0        0        0    0.000000    0.000000      0.0000"
      ]
     },
     "execution_count": 259,
     "metadata": {},
     "output_type": "execute_result"
    }
   ],
   "source": [
    "Product_sales.info()\n",
    "Product_sales.head()"
   ]
  },
  {
   "cell_type": "markdown",
   "metadata": {},
   "source": [
    "## 2. Processing data"
   ]
  },
  {
   "cell_type": "markdown",
   "metadata": {},
   "source": [
    "### 2.1 Create a new column : \n",
    "######         profit  =  revenue  -  cost"
   ]
  },
  {
   "cell_type": "code",
   "execution_count": 260,
   "metadata": {},
   "outputs": [
    {
     "data": {
      "text/html": [
       "<div>\n",
       "<style scoped>\n",
       "    .dataframe tbody tr th:only-of-type {\n",
       "        vertical-align: middle;\n",
       "    }\n",
       "\n",
       "    .dataframe tbody tr th {\n",
       "        vertical-align: top;\n",
       "    }\n",
       "\n",
       "    .dataframe thead th {\n",
       "        text-align: right;\n",
       "    }\n",
       "</style>\n",
       "<table border=\"1\" class=\"dataframe\">\n",
       "  <thead>\n",
       "    <tr style=\"text-align: right;\">\n",
       "      <th></th>\n",
       "      <th>Client</th>\n",
       "      <th>Sale_MF</th>\n",
       "      <th>Sale_CC</th>\n",
       "      <th>Sale_CL</th>\n",
       "      <th>Revenue_MF</th>\n",
       "      <th>Revenue_CC</th>\n",
       "      <th>Revenue_CL</th>\n",
       "      <th>total_n_procducts</th>\n",
       "      <th>cost</th>\n",
       "    </tr>\n",
       "  </thead>\n",
       "  <tbody>\n",
       "    <tr>\n",
       "      <th>0</th>\n",
       "      <td>1094</td>\n",
       "      <td>0</td>\n",
       "      <td>1</td>\n",
       "      <td>0</td>\n",
       "      <td>0.000000</td>\n",
       "      <td>5.138571</td>\n",
       "      <td>0.0000</td>\n",
       "      <td>1</td>\n",
       "      <td>2.0</td>\n",
       "    </tr>\n",
       "    <tr>\n",
       "      <th>1</th>\n",
       "      <td>1484</td>\n",
       "      <td>1</td>\n",
       "      <td>0</td>\n",
       "      <td>1</td>\n",
       "      <td>25.609107</td>\n",
       "      <td>0.000000</td>\n",
       "      <td>8.7225</td>\n",
       "      <td>2</td>\n",
       "      <td>5.0</td>\n",
       "    </tr>\n",
       "    <tr>\n",
       "      <th>2</th>\n",
       "      <td>20</td>\n",
       "      <td>0</td>\n",
       "      <td>1</td>\n",
       "      <td>0</td>\n",
       "      <td>0.000000</td>\n",
       "      <td>3.822500</td>\n",
       "      <td>0.0000</td>\n",
       "      <td>1</td>\n",
       "      <td>2.0</td>\n",
       "    </tr>\n",
       "  </tbody>\n",
       "</table>\n",
       "</div>"
      ],
      "text/plain": [
       "   Client  Sale_MF  Sale_CC  Sale_CL  Revenue_MF  Revenue_CC  Revenue_CL  \\\n",
       "0    1094        0        1        0    0.000000    5.138571      0.0000   \n",
       "1    1484        1        0        1   25.609107    0.000000      8.7225   \n",
       "2      20        0        1        0    0.000000    3.822500      0.0000   \n",
       "\n",
       "   total_n_procducts  cost  \n",
       "0                  1   2.0  \n",
       "1                  2   5.0  \n",
       "2                  1   2.0  "
      ]
     },
     "execution_count": 260,
     "metadata": {},
     "output_type": "execute_result"
    }
   ],
   "source": [
    "# caculate the total cost of each client\n",
    "Product_sales['total_n_procducts']=Product_sales.Sale_MF+Product_sales.Sale_CC+Product_sales.Sale_CL\n",
    "Product_sales.loc[Product_sales['total_n_procducts'] == 0, 'cost'] = 0\n",
    "Product_sales.loc[Product_sales['total_n_procducts'] == 1, 'cost'] = 2\n",
    "Product_sales.loc[Product_sales['total_n_procducts'] == 2, 'cost'] = 5\n",
    "Product_sales.loc[Product_sales['total_n_procducts'] == 3, 'cost'] =10\n",
    "Product_sales.head(3)"
   ]
  },
  {
   "cell_type": "code",
   "execution_count": 261,
   "metadata": {},
   "outputs": [
    {
     "data": {
      "text/html": [
       "<div>\n",
       "<style scoped>\n",
       "    .dataframe tbody tr th:only-of-type {\n",
       "        vertical-align: middle;\n",
       "    }\n",
       "\n",
       "    .dataframe tbody tr th {\n",
       "        vertical-align: top;\n",
       "    }\n",
       "\n",
       "    .dataframe thead th {\n",
       "        text-align: right;\n",
       "    }\n",
       "</style>\n",
       "<table border=\"1\" class=\"dataframe\">\n",
       "  <thead>\n",
       "    <tr style=\"text-align: right;\">\n",
       "      <th></th>\n",
       "      <th>Client</th>\n",
       "      <th>Sale_MF</th>\n",
       "      <th>Sale_CC</th>\n",
       "      <th>Sale_CL</th>\n",
       "      <th>Revenue_MF</th>\n",
       "      <th>Revenue_CC</th>\n",
       "      <th>Revenue_CL</th>\n",
       "      <th>total_n_procducts</th>\n",
       "      <th>cost</th>\n",
       "      <th>total_revenue</th>\n",
       "      <th>profit</th>\n",
       "    </tr>\n",
       "  </thead>\n",
       "  <tbody>\n",
       "    <tr>\n",
       "      <th>0</th>\n",
       "      <td>1094</td>\n",
       "      <td>0</td>\n",
       "      <td>1</td>\n",
       "      <td>0</td>\n",
       "      <td>0.000000</td>\n",
       "      <td>5.138571</td>\n",
       "      <td>0.000000</td>\n",
       "      <td>1</td>\n",
       "      <td>2.0</td>\n",
       "      <td>5.138571</td>\n",
       "      <td>3.138571</td>\n",
       "    </tr>\n",
       "    <tr>\n",
       "      <th>1</th>\n",
       "      <td>1484</td>\n",
       "      <td>1</td>\n",
       "      <td>0</td>\n",
       "      <td>1</td>\n",
       "      <td>25.609107</td>\n",
       "      <td>0.000000</td>\n",
       "      <td>8.722500</td>\n",
       "      <td>2</td>\n",
       "      <td>5.0</td>\n",
       "      <td>34.331607</td>\n",
       "      <td>29.331607</td>\n",
       "    </tr>\n",
       "    <tr>\n",
       "      <th>2</th>\n",
       "      <td>20</td>\n",
       "      <td>0</td>\n",
       "      <td>1</td>\n",
       "      <td>0</td>\n",
       "      <td>0.000000</td>\n",
       "      <td>3.822500</td>\n",
       "      <td>0.000000</td>\n",
       "      <td>1</td>\n",
       "      <td>2.0</td>\n",
       "      <td>3.822500</td>\n",
       "      <td>1.822500</td>\n",
       "    </tr>\n",
       "    <tr>\n",
       "      <th>3</th>\n",
       "      <td>1193</td>\n",
       "      <td>0</td>\n",
       "      <td>0</td>\n",
       "      <td>0</td>\n",
       "      <td>0.000000</td>\n",
       "      <td>0.000000</td>\n",
       "      <td>0.000000</td>\n",
       "      <td>0</td>\n",
       "      <td>0.0</td>\n",
       "      <td>0.000000</td>\n",
       "      <td>0.000000</td>\n",
       "    </tr>\n",
       "    <tr>\n",
       "      <th>4</th>\n",
       "      <td>142</td>\n",
       "      <td>0</td>\n",
       "      <td>0</td>\n",
       "      <td>0</td>\n",
       "      <td>0.000000</td>\n",
       "      <td>0.000000</td>\n",
       "      <td>0.000000</td>\n",
       "      <td>0</td>\n",
       "      <td>0.0</td>\n",
       "      <td>0.000000</td>\n",
       "      <td>0.000000</td>\n",
       "    </tr>\n",
       "    <tr>\n",
       "      <th>...</th>\n",
       "      <td>...</td>\n",
       "      <td>...</td>\n",
       "      <td>...</td>\n",
       "      <td>...</td>\n",
       "      <td>...</td>\n",
       "      <td>...</td>\n",
       "      <td>...</td>\n",
       "      <td>...</td>\n",
       "      <td>...</td>\n",
       "      <td>...</td>\n",
       "      <td>...</td>\n",
       "    </tr>\n",
       "    <tr>\n",
       "      <th>964</th>\n",
       "      <td>1316</td>\n",
       "      <td>0</td>\n",
       "      <td>0</td>\n",
       "      <td>1</td>\n",
       "      <td>0.000000</td>\n",
       "      <td>0.000000</td>\n",
       "      <td>3.317500</td>\n",
       "      <td>1</td>\n",
       "      <td>2.0</td>\n",
       "      <td>3.317500</td>\n",
       "      <td>1.317500</td>\n",
       "    </tr>\n",
       "    <tr>\n",
       "      <th>965</th>\n",
       "      <td>905</td>\n",
       "      <td>1</td>\n",
       "      <td>1</td>\n",
       "      <td>1</td>\n",
       "      <td>1.761071</td>\n",
       "      <td>0.892857</td>\n",
       "      <td>13.166786</td>\n",
       "      <td>3</td>\n",
       "      <td>10.0</td>\n",
       "      <td>15.820714</td>\n",
       "      <td>5.820714</td>\n",
       "    </tr>\n",
       "    <tr>\n",
       "      <th>966</th>\n",
       "      <td>938</td>\n",
       "      <td>0</td>\n",
       "      <td>1</td>\n",
       "      <td>1</td>\n",
       "      <td>0.000000</td>\n",
       "      <td>4.928571</td>\n",
       "      <td>7.812143</td>\n",
       "      <td>2</td>\n",
       "      <td>5.0</td>\n",
       "      <td>12.740714</td>\n",
       "      <td>7.740714</td>\n",
       "    </tr>\n",
       "    <tr>\n",
       "      <th>967</th>\n",
       "      <td>434</td>\n",
       "      <td>0</td>\n",
       "      <td>0</td>\n",
       "      <td>0</td>\n",
       "      <td>0.000000</td>\n",
       "      <td>0.000000</td>\n",
       "      <td>0.000000</td>\n",
       "      <td>0</td>\n",
       "      <td>0.0</td>\n",
       "      <td>0.000000</td>\n",
       "      <td>0.000000</td>\n",
       "    </tr>\n",
       "    <tr>\n",
       "      <th>968</th>\n",
       "      <td>1596</td>\n",
       "      <td>0</td>\n",
       "      <td>0</td>\n",
       "      <td>1</td>\n",
       "      <td>0.000000</td>\n",
       "      <td>0.000000</td>\n",
       "      <td>9.821429</td>\n",
       "      <td>1</td>\n",
       "      <td>2.0</td>\n",
       "      <td>9.821429</td>\n",
       "      <td>7.821429</td>\n",
       "    </tr>\n",
       "  </tbody>\n",
       "</table>\n",
       "<p>969 rows × 11 columns</p>\n",
       "</div>"
      ],
      "text/plain": [
       "     Client  Sale_MF  Sale_CC  Sale_CL  Revenue_MF  Revenue_CC  Revenue_CL  \\\n",
       "0      1094        0        1        0    0.000000    5.138571    0.000000   \n",
       "1      1484        1        0        1   25.609107    0.000000    8.722500   \n",
       "2        20        0        1        0    0.000000    3.822500    0.000000   \n",
       "3      1193        0        0        0    0.000000    0.000000    0.000000   \n",
       "4       142        0        0        0    0.000000    0.000000    0.000000   \n",
       "..      ...      ...      ...      ...         ...         ...         ...   \n",
       "964    1316        0        0        1    0.000000    0.000000    3.317500   \n",
       "965     905        1        1        1    1.761071    0.892857   13.166786   \n",
       "966     938        0        1        1    0.000000    4.928571    7.812143   \n",
       "967     434        0        0        0    0.000000    0.000000    0.000000   \n",
       "968    1596        0        0        1    0.000000    0.000000    9.821429   \n",
       "\n",
       "     total_n_procducts  cost  total_revenue     profit  \n",
       "0                    1   2.0       5.138571   3.138571  \n",
       "1                    2   5.0      34.331607  29.331607  \n",
       "2                    1   2.0       3.822500   1.822500  \n",
       "3                    0   0.0       0.000000   0.000000  \n",
       "4                    0   0.0       0.000000   0.000000  \n",
       "..                 ...   ...            ...        ...  \n",
       "964                  1   2.0       3.317500   1.317500  \n",
       "965                  3  10.0      15.820714   5.820714  \n",
       "966                  2   5.0      12.740714   7.740714  \n",
       "967                  0   0.0       0.000000   0.000000  \n",
       "968                  1   2.0       9.821429   7.821429  \n",
       "\n",
       "[969 rows x 11 columns]"
      ]
     },
     "execution_count": 261,
     "metadata": {},
     "output_type": "execute_result"
    }
   ],
   "source": [
    "# caculate the total revenue of each client\n",
    "Product_sales['total_revenue']=Product_sales.Sale_MF*Product_sales.Revenue_MF+Product_sales.Sale_CC*Product_sales.Revenue_CC+Product_sales.Sale_CL*Product_sales.Revenue_CL\n",
    "\n",
    "# caculate the total profit of each client\n",
    "Product_sales['profit']=Product_sales.total_revenue - Product_sales.cost\n",
    "Product_sales.sort_values(by=['profit'], ascending = False)\n",
    "Product_sales"
   ]
  },
  {
   "cell_type": "code",
   "execution_count": 262,
   "metadata": {},
   "outputs": [
    {
     "name": "stdout",
     "output_type": "stream",
     "text": [
      "Client               0.0\n",
      "Sale_MF              0.0\n",
      "Sale_CC              0.0\n",
      "Sale_CL              0.0\n",
      "Revenue_MF           0.0\n",
      "Revenue_CC           0.0\n",
      "Revenue_CL           0.0\n",
      "total_n_procducts    0.0\n",
      "cost                 0.0\n",
      "total_revenue        0.0\n",
      "profit               0.0\n",
      "dtype: float64\n",
      "Client               0\n",
      "Sale_MF              0\n",
      "Sale_CC              0\n",
      "Sale_CL              0\n",
      "Revenue_MF           0\n",
      "Revenue_CC           0\n",
      "Revenue_CL           0\n",
      "total_n_procducts    0\n",
      "cost                 0\n",
      "total_revenue        0\n",
      "profit               0\n",
      "dtype: int64\n",
      "<class 'pandas.core.frame.DataFrame'>\n",
      "RangeIndex: 969 entries, 0 to 968\n",
      "Data columns (total 11 columns):\n",
      " #   Column             Non-Null Count  Dtype  \n",
      "---  ------             --------------  -----  \n",
      " 0   Client             969 non-null    int64  \n",
      " 1   Sale_MF            969 non-null    int64  \n",
      " 2   Sale_CC            969 non-null    int64  \n",
      " 3   Sale_CL            969 non-null    int64  \n",
      " 4   Revenue_MF         969 non-null    float64\n",
      " 5   Revenue_CC         969 non-null    float64\n",
      " 6   Revenue_CL         969 non-null    float64\n",
      " 7   total_n_procducts  969 non-null    int64  \n",
      " 8   cost               969 non-null    float64\n",
      " 9   total_revenue      969 non-null    float64\n",
      " 10  profit             969 non-null    float64\n",
      "dtypes: float64(6), int64(5)\n",
      "memory usage: 83.4 KB\n"
     ]
    },
    {
     "data": {
      "text/plain": [
       "<AxesSubplot:>"
      ]
     },
     "execution_count": 262,
     "metadata": {},
     "output_type": "execute_result"
    },
    {
     "data": {
      "image/png": "[encoded data removed]",
      "text/plain": [
       "<Figure size 1800x720 with 2 Axes>"
      ]
     },
     "metadata": {
      "needs_background": "light"
     },
     "output_type": "display_data"
    }
   ],
   "source": [
    "# check missing values\n",
    "misingdata = Product_sales\n",
    "print(misingdata.isna().sum()/misingdata.shape[0])\n",
    "print(misingdata.isna().sum())\n",
    "misingdata.info()\n",
    "import missingno as msno # pip install missingno\n",
    "%matplotlib inline\n",
    "msno.matrix(misingdata)"
   ]
  },
  {
   "cell_type": "markdown",
   "metadata": {},
   "source": [
    "### 2.2 Merge all the data"
   ]
  },
  {
   "cell_type": "code",
   "execution_count": 263,
   "metadata": {},
   "outputs": [],
   "source": [
    "# merge all the data\n",
    "SA= pd.merge(Soc_Dem, Actual_products, on='Client', how='left')\n",
    "SAT= pd.merge(SA, Transaction_flows, on='Client', how='left')\n",
    "# merge the Product_sales with only the profit, \n",
    "# due to the test set don't have the variables in the Product_sales\n",
    "#he profit is the target will be predicted \n",
    "SATP= pd.merge(SAT, Product_sales[['Client','profit']], on='Client', how='left')\n",
    "\n",
    "# SATP.head()"
   ]
  },
  {
   "cell_type": "markdown",
   "metadata": {},
   "source": [
    "### 2.3 data visulization"
   ]
  },
  {
   "cell_type": "code",
   "execution_count": 264,
   "metadata": {},
   "outputs": [
    {
     "name": "stderr",
     "output_type": "stream",
     "text": [
      "C:\\Users\\MRZHE\\anaconda3\\lib\\site-packages\\seaborn\\_decorators.py:36: FutureWarning: Pass the following variable as a keyword arg: x. From version 0.12, the only valid positional argument will be `data`, and passing other arguments without an explicit keyword will result in an error or misinterpretation.\n",
      "  warnings.warn(\n"
     ]
    },
    {
     "data": {
      "text/plain": [
       "<AxesSubplot:xlabel='Gen', ylabel='count'>"
      ]
     },
     "execution_count": 264,
     "metadata": {},
     "output_type": "execute_result"
    },
    {
     "data": {
      "image/png": "[encoded data removed]",
      "text/plain": [
       "<Figure size 864x432 with 1 Axes>"
      ]
     },
     "metadata": {
      "needs_background": "light"
     },
     "output_type": "display_data"
    }
   ],
   "source": [
    "# the graph shows the male/female are almost balanced\n",
    "plt.figure(figsize=(12,6))\n",
    "plt.xticks(rotation=0)\n",
    "sns.countplot(SATP['Gen'].dropna(axis=0))"
   ]
  },
  {
   "cell_type": "code",
   "execution_count": 265,
   "metadata": {},
   "outputs": [
    {
     "data": {
      "text/plain": [
       "(-0.5, 1.5, -10.0, 500.0)"
      ]
     },
     "execution_count": 265,
     "metadata": {},
     "output_type": "execute_result"
    },
    {
     "data": {
      "image/png": "[encoded data removed]",
      "text/plain": [
       "<Figure size 432x288 with 1 Axes>"
      ]
     },
     "metadata": {
      "needs_background": "light"
     },
     "output_type": "display_data"
    }
   ],
   "source": [
    "# Gender\n",
    "# gender has little impact on profits, some of the female will contribute high profit\n",
    "var='Gen'\n",
    "data=pd.concat([SATP['profit'].dropna(axis=0),SATP[SATP['profit'].notna()][var]],axis=1)\n",
    "fig=sns.boxplot(x=var,y='profit',data=data)\n",
    "fig.axis(ymin=-10,ymax=500)"
   ]
  },
  {
   "cell_type": "markdown",
   "metadata": {},
   "source": [
    "### 2.4  missing values"
   ]
  },
  {
   "cell_type": "code",
   "execution_count": 266,
   "metadata": {},
   "outputs": [
    {
     "data": {
      "text/plain": [
       "<AxesSubplot:>"
      ]
     },
     "execution_count": 266,
     "metadata": {},
     "output_type": "execute_result"
    },
    {
     "data": {
      "image/png": "[encoded data removed]",
      "text/plain": [
       "<Figure size 1800x720 with 2 Axes>"
      ]
     },
     "metadata": {
      "needs_background": "light"
     },
     "output_type": "display_data"
    }
   ],
   "source": [
    "import missingno as msno # pip install missingno\n",
    "%matplotlib inline\n",
    "msno.matrix(SATP)"
   ]
  },
  {
   "cell_type": "code",
   "execution_count": 267,
   "metadata": {},
   "outputs": [],
   "source": [
    "# List dummary variables to track missing values imputation\n",
    "na_vars = []\n",
    "\n",
    "# List dummary variables to track missing values imputation\n",
    "num_vars = ['Count_SA', 'Count_MF','Count_OVD', 'Count_CC', 'Count_CL','ActBal_SA',\n",
    "            'ActBal_MF', 'ActBal_OVD', 'ActBal_CC', 'ActBal_CL','VolumeCred',\n",
    "       'VolumeCred_CA', 'TransactionsCred', 'TransactionsCred_CA', 'VolumeDeb',\n",
    "       'VolumeDeb_CA', 'VolumeDebCash_Card', 'VolumeDebCashless_Card',\n",
    "       'VolumeDeb_PaymentOrder', 'TransactionsDeb', 'TransactionsDeb_CA',\n",
    "       'TransactionsDebCash_Card', 'TransactionsDebCashless_Card',\n",
    "       'TransactionsDeb_PaymentOrder']\n",
    "\n",
    "# Numerical variables\n",
    "# Build the missing value imputor using the constant\n",
    "imp = SimpleImputer(missing_values=np.nan, strategy='constant', add_indicator=True)\n",
    "imp.fit(SATP[num_vars])\n",
    "# Reconstruct the list of vars + indicators\n",
    "na_vars = na_vars + [num_vars[v] + \"_na\" for v in imp.indicator_.features_]\n",
    "impute_vars = num_vars + na_vars\n",
    "# Apply on SATP\n",
    "SATP[impute_vars] = pd.DataFrame(imp.transform(SATP[num_vars]), columns=impute_vars)"
   ]
  },
  {
   "cell_type": "code",
   "execution_count": 268,
   "metadata": {},
   "outputs": [
    {
     "data": {
      "text/plain": [
       "Index(['Client', 'Gen', 'Age', 'LOR', 'Count_CA', 'Count_SA', 'Count_MF',\n",
       "       'Count_OVD', 'Count_CC', 'Count_CL', 'ActBal_CA', 'ActBal_SA',\n",
       "       'ActBal_MF', 'ActBal_OVD', 'ActBal_CC', 'ActBal_CL', 'VolumeCred',\n",
       "       'VolumeCred_CA', 'TransactionsCred', 'TransactionsCred_CA', 'VolumeDeb',\n",
       "       'VolumeDeb_CA', 'VolumeDebCash_Card', 'VolumeDebCashless_Card',\n",
       "       'VolumeDeb_PaymentOrder', 'TransactionsDeb', 'TransactionsDeb_CA',\n",
       "       'TransactionsDebCash_Card', 'TransactionsDebCashless_Card',\n",
       "       'TransactionsDeb_PaymentOrder', 'profit', 'Count_SA_na', 'Count_MF_na',\n",
       "       'Count_OVD_na', 'Count_CC_na', 'Count_CL_na', 'ActBal_SA_na',\n",
       "       'ActBal_MF_na', 'ActBal_OVD_na', 'ActBal_CC_na', 'ActBal_CL_na',\n",
       "       'VolumeCred_na', 'VolumeCred_CA_na', 'TransactionsCred_na',\n",
       "       'TransactionsCred_CA_na', 'VolumeDeb_na', 'VolumeDeb_CA_na',\n",
       "       'VolumeDebCash_Card_na', 'VolumeDebCashless_Card_na',\n",
       "       'VolumeDeb_PaymentOrder_na', 'TransactionsDeb_na',\n",
       "       'TransactionsDeb_CA_na', 'TransactionsDebCash_Card_na',\n",
       "       'TransactionsDebCashless_Card_na', 'TransactionsDeb_PaymentOrder_na'],\n",
       "      dtype='object')"
      ]
     },
     "execution_count": 268,
     "metadata": {},
     "output_type": "execute_result"
    }
   ],
   "source": [
    "SATP.columns"
   ]
  },
  {
   "cell_type": "markdown",
   "metadata": {},
   "source": [
    "### 2.3.3 variable correlation"
   ]
  },
  {
   "cell_type": "code",
   "execution_count": 269,
   "metadata": {},
   "outputs": [
    {
     "data": {
      "text/plain": [
       "<AxesSubplot:>"
      ]
     },
     "execution_count": 269,
     "metadata": {},
     "output_type": "execute_result"
    },
    {
     "data": {
      "image/png": "[encoded data removed]",
      "text/plain": [
       "<Figure size 1080x864 with 2 Axes>"
      ]
     },
     "metadata": {
      "needs_background": "light"
     },
     "output_type": "display_data"
    }
   ],
   "source": [
    "# all features correlatons\n",
    "corrmat = SATP.corr()\n",
    "plt.subplots(figsize=(15,12))\n",
    "sns.heatmap(corrmat, vmax=0.9, square=True, cmap='jet')"
   ]
  },
  {
   "cell_type": "code",
   "execution_count": 270,
   "metadata": {},
   "outputs": [
    {
     "data": {
      "text/plain": [
       "<AxesSubplot:>"
      ]
     },
     "execution_count": 270,
     "metadata": {},
     "output_type": "execute_result"
    },
    {
     "data": {
      "image/png": "[encoded data removed]",
      "text/plain": [
       "<Figure size 1080x864 with 2 Axes>"
      ]
     },
     "metadata": {
      "needs_background": "light"
     },
     "output_type": "display_data"
    }
   ],
   "source": [
    "# only the non-track features\n",
    "# it seems VolumeDebCash_Card have high correlation with the VolumeDeb, \n",
    "# due to the Overdrafts are often limited by credit limits\n",
    "cor_vars=['Client', 'Gen', 'Age', 'LOR', 'Count_CA', 'Count_SA', 'Count_MF',\n",
    "       'Count_OVD', 'Count_CC', 'Count_CL', 'ActBal_CA', 'ActBal_SA',\n",
    "       'ActBal_MF', 'ActBal_OVD', 'ActBal_CC', 'ActBal_CL', 'VolumeCred',\n",
    "       'VolumeCred_CA', 'TransactionsCred', 'TransactionsCred_CA', 'VolumeDeb',\n",
    "       'VolumeDeb_CA', 'VolumeDebCash_Card', 'VolumeDebCashless_Card',\n",
    "       'VolumeDeb_PaymentOrder', 'TransactionsDeb', 'TransactionsDeb_CA',\n",
    "       'TransactionsDebCash_Card', 'TransactionsDebCashless_Card',\n",
    "       'TransactionsDeb_PaymentOrder', 'profit']\n",
    "corrmat = SATP[cor_vars].corr()\n",
    "plt.subplots(figsize=(15,12))\n",
    "sns.heatmap(corrmat, vmax=0.9, square=True, cmap='jet')"
   ]
  },
  {
   "cell_type": "markdown",
   "metadata": {},
   "source": [
    "### 2.3.4 Value representation (cat => num)"
   ]
  },
  {
   "cell_type": "code",
   "execution_count": 271,
   "metadata": {},
   "outputs": [],
   "source": [
    "# fill the missing value in profit with 0, and set a track col for partition\n",
    "SATP['profit_miss'] = where(SATP['profit'].isna(), 1, 0)\n",
    "SATP['profit'].fillna(0,inplace=True)"
   ]
  },
  {
   "cell_type": "code",
   "execution_count": 272,
   "metadata": {},
   "outputs": [
    {
     "data": {
      "text/plain": [
       "Client                               int64\n",
       "Gen                                 object\n",
       "Age                                  int64\n",
       "LOR                                  int64\n",
       "Count_CA                             int64\n",
       "Count_SA                           float64\n",
       "Count_MF                           float64\n",
       "Count_OVD                          float64\n",
       "Count_CC                           float64\n",
       "Count_CL                           float64\n",
       "ActBal_CA                          float64\n",
       "ActBal_SA                          float64\n",
       "ActBal_MF                          float64\n",
       "ActBal_OVD                         float64\n",
       "ActBal_CC                          float64\n",
       "ActBal_CL                          float64\n",
       "VolumeCred                         float64\n",
       "VolumeCred_CA                      float64\n",
       "TransactionsCred                   float64\n",
       "TransactionsCred_CA                float64\n",
       "VolumeDeb                          float64\n",
       "VolumeDeb_CA                       float64\n",
       "VolumeDebCash_Card                 float64\n",
       "VolumeDebCashless_Card             float64\n",
       "VolumeDeb_PaymentOrder             float64\n",
       "TransactionsDeb                    float64\n",
       "TransactionsDeb_CA                 float64\n",
       "TransactionsDebCash_Card           float64\n",
       "TransactionsDebCashless_Card       float64\n",
       "TransactionsDeb_PaymentOrder       float64\n",
       "profit                             float64\n",
       "Count_SA_na                        float64\n",
       "Count_MF_na                        float64\n",
       "Count_OVD_na                       float64\n",
       "Count_CC_na                        float64\n",
       "Count_CL_na                        float64\n",
       "ActBal_SA_na                       float64\n",
       "ActBal_MF_na                       float64\n",
       "ActBal_OVD_na                      float64\n",
       "ActBal_CC_na                       float64\n",
       "ActBal_CL_na                       float64\n",
       "VolumeCred_na                      float64\n",
       "VolumeCred_CA_na                   float64\n",
       "TransactionsCred_na                float64\n",
       "TransactionsCred_CA_na             float64\n",
       "VolumeDeb_na                       float64\n",
       "VolumeDeb_CA_na                    float64\n",
       "VolumeDebCash_Card_na              float64\n",
       "VolumeDebCashless_Card_na          float64\n",
       "VolumeDeb_PaymentOrder_na          float64\n",
       "TransactionsDeb_na                 float64\n",
       "TransactionsDeb_CA_na              float64\n",
       "TransactionsDebCash_Card_na        float64\n",
       "TransactionsDebCashless_Card_na    float64\n",
       "TransactionsDeb_PaymentOrder_na    float64\n",
       "profit_miss                          int32\n",
       "dtype: object"
      ]
     },
     "execution_count": 272,
     "metadata": {},
     "output_type": "execute_result"
    }
   ],
   "source": [
    "SATP.dtypes"
   ]
  },
  {
   "cell_type": "code",
   "execution_count": 273,
   "metadata": {},
   "outputs": [
    {
     "data": {
      "text/html": [
       "<div>\n",
       "<style scoped>\n",
       "    .dataframe tbody tr th:only-of-type {\n",
       "        vertical-align: middle;\n",
       "    }\n",
       "\n",
       "    .dataframe tbody tr th {\n",
       "        vertical-align: top;\n",
       "    }\n",
       "\n",
       "    .dataframe thead th {\n",
       "        text-align: right;\n",
       "    }\n",
       "</style>\n",
       "<table border=\"1\" class=\"dataframe\">\n",
       "  <thead>\n",
       "    <tr style=\"text-align: right;\">\n",
       "      <th></th>\n",
       "      <th>Client</th>\n",
       "      <th>Gen</th>\n",
       "      <th>Age</th>\n",
       "      <th>LOR</th>\n",
       "      <th>Count_CA</th>\n",
       "      <th>Count_SA</th>\n",
       "      <th>Count_MF</th>\n",
       "      <th>Count_OVD</th>\n",
       "      <th>Count_CC</th>\n",
       "      <th>Count_CL</th>\n",
       "      <th>...</th>\n",
       "      <th>VolumeDeb_CA_na</th>\n",
       "      <th>VolumeDebCash_Card_na</th>\n",
       "      <th>VolumeDebCashless_Card_na</th>\n",
       "      <th>VolumeDeb_PaymentOrder_na</th>\n",
       "      <th>TransactionsDeb_na</th>\n",
       "      <th>TransactionsDeb_CA_na</th>\n",
       "      <th>TransactionsDebCash_Card_na</th>\n",
       "      <th>TransactionsDebCashless_Card_na</th>\n",
       "      <th>TransactionsDeb_PaymentOrder_na</th>\n",
       "      <th>profit_miss</th>\n",
       "    </tr>\n",
       "  </thead>\n",
       "  <tbody>\n",
       "  </tbody>\n",
       "</table>\n",
       "<p>0 rows × 56 columns</p>\n",
       "</div>"
      ],
      "text/plain": [
       "Empty DataFrame\n",
       "Columns: [Client, Gen, Age, LOR, Count_CA, Count_SA, Count_MF, Count_OVD, Count_CC, Count_CL, ActBal_CA, ActBal_SA, ActBal_MF, ActBal_OVD, ActBal_CC, ActBal_CL, VolumeCred, VolumeCred_CA, TransactionsCred, TransactionsCred_CA, VolumeDeb, VolumeDeb_CA, VolumeDebCash_Card, VolumeDebCashless_Card, VolumeDeb_PaymentOrder, TransactionsDeb, TransactionsDeb_CA, TransactionsDebCash_Card, TransactionsDebCashless_Card, TransactionsDeb_PaymentOrder, profit, Count_SA_na, Count_MF_na, Count_OVD_na, Count_CC_na, Count_CL_na, ActBal_SA_na, ActBal_MF_na, ActBal_OVD_na, ActBal_CC_na, ActBal_CL_na, VolumeCred_na, VolumeCred_CA_na, TransactionsCred_na, TransactionsCred_CA_na, VolumeDeb_na, VolumeDeb_CA_na, VolumeDebCash_Card_na, VolumeDebCashless_Card_na, VolumeDeb_PaymentOrder_na, TransactionsDeb_na, TransactionsDeb_CA_na, TransactionsDebCash_Card_na, TransactionsDebCashless_Card_na, TransactionsDeb_PaymentOrder_na, profit_miss]\n",
       "Index: []\n",
       "\n",
       "[0 rows x 56 columns]"
      ]
     },
     "execution_count": 273,
     "metadata": {},
     "output_type": "execute_result"
    }
   ],
   "source": [
    "# check the duplicated obs\n",
    "dd=SATP\n",
    "dd[dd.Client.duplicated()]"
   ]
  },
  {
   "cell_type": "code",
   "execution_count": 274,
   "metadata": {},
   "outputs": [
    {
     "name": "stdout",
     "output_type": "stream",
     "text": [
      "Client : int64\n",
      "Gen : object\n",
      "Age : int64\n",
      "LOR : int64\n",
      "Count_CA : int64\n",
      "Count_SA : float64\n",
      "Count_MF : float64\n",
      "Count_OVD : float64\n",
      "Count_CC : float64\n",
      "Count_CL : float64\n",
      "ActBal_CA : float64\n",
      "ActBal_SA : float64\n",
      "ActBal_MF : float64\n",
      "ActBal_OVD : float64\n",
      "ActBal_CC : float64\n",
      "ActBal_CL : float64\n",
      "VolumeCred : float64\n",
      "VolumeCred_CA : float64\n",
      "TransactionsCred : float64\n",
      "TransactionsCred_CA : float64\n",
      "VolumeDeb : float64\n",
      "VolumeDeb_CA : float64\n",
      "VolumeDebCash_Card : float64\n",
      "VolumeDebCashless_Card : float64\n",
      "VolumeDeb_PaymentOrder : float64\n",
      "TransactionsDeb : float64\n",
      "TransactionsDeb_CA : float64\n",
      "TransactionsDebCash_Card : float64\n",
      "TransactionsDebCashless_Card : float64\n",
      "TransactionsDeb_PaymentOrder : float64\n",
      "profit : float64\n",
      "Count_SA_na : float64\n",
      "Count_MF_na : float64\n",
      "Count_OVD_na : float64\n",
      "Count_CC_na : float64\n",
      "Count_CL_na : float64\n",
      "ActBal_SA_na : float64\n",
      "ActBal_MF_na : float64\n",
      "ActBal_OVD_na : float64\n",
      "ActBal_CC_na : float64\n",
      "ActBal_CL_na : float64\n",
      "VolumeCred_na : float64\n",
      "VolumeCred_CA_na : float64\n",
      "TransactionsCred_na : float64\n",
      "TransactionsCred_CA_na : float64\n",
      "VolumeDeb_na : float64\n",
      "VolumeDeb_CA_na : float64\n",
      "VolumeDebCash_Card_na : float64\n",
      "VolumeDebCashless_Card_na : float64\n",
      "VolumeDeb_PaymentOrder_na : float64\n",
      "TransactionsDeb_na : float64\n",
      "TransactionsDeb_CA_na : float64\n",
      "TransactionsDebCash_Card_na : float64\n",
      "TransactionsDebCashless_Card_na : float64\n",
      "TransactionsDeb_PaymentOrder_na : float64\n",
      "profit_miss : int32\n"
     ]
    }
   ],
   "source": [
    "# dummy for all categorial variables\n",
    "trainingSet=SATP.copy()\n",
    "types = trainingSet.dtypes.to_dict()\n",
    "from pandas               import DataFrame\n",
    "def treatCategorical (variable: str, inDataSet: DataFrame) -> DataFrame:\n",
    "    inDataSet[variable] = inDataSet[variable].replace({nan: \"missing\"})\n",
    "    inDataSet           = inDataSet.join(get_dummies(inDataSet[variable], prefix = f\"fl_{variable}_is\", drop_first = True))\n",
    "    inDataSet           = inDataSet.drop(columns=[variable])\n",
    "    return inDataSet\n",
    "\n",
    "def treatContinuous (variable: str, inDataSet: DataFrame) -> DataFrame:\n",
    "    #trainingSet[f\"fl_{variable}_is_missing\"] = where(trainingSet[variable].isnull(), 1, 0)\n",
    "    trainingSet[variable] = trainingSet[variable].replace({nan: 0.0})\n",
    "    trainingSet[variable] = winsorize(array(trainingSet[variable].astype(float)), limits = [0.00, 0.01])\n",
    "    return inDataSet\n",
    "\n",
    "for column in trainingSet.columns:\n",
    "    columnType = types[column]\n",
    "    print(f\"{column} : {columnType}\")\n",
    "    if columnType not in [\"int64\",\"float64\",\"int32\"]:\n",
    "        trainingSet = treatCategorical(variable = column, inDataSet = SATP)"
   ]
  },
  {
   "cell_type": "code",
   "execution_count": 275,
   "metadata": {},
   "outputs": [
    {
     "data": {
      "text/html": [
       "<div>\n",
       "<style scoped>\n",
       "    .dataframe tbody tr th:only-of-type {\n",
       "        vertical-align: middle;\n",
       "    }\n",
       "\n",
       "    .dataframe tbody tr th {\n",
       "        vertical-align: top;\n",
       "    }\n",
       "\n",
       "    .dataframe thead th {\n",
       "        text-align: right;\n",
       "    }\n",
       "</style>\n",
       "<table border=\"1\" class=\"dataframe\">\n",
       "  <thead>\n",
       "    <tr style=\"text-align: right;\">\n",
       "      <th></th>\n",
       "      <th>Client</th>\n",
       "      <th>Age</th>\n",
       "      <th>LOR</th>\n",
       "      <th>Count_CA</th>\n",
       "      <th>Count_SA</th>\n",
       "      <th>Count_MF</th>\n",
       "      <th>Count_OVD</th>\n",
       "      <th>Count_CC</th>\n",
       "      <th>Count_CL</th>\n",
       "      <th>ActBal_CA</th>\n",
       "      <th>...</th>\n",
       "      <th>VolumeDebCashless_Card_na</th>\n",
       "      <th>VolumeDeb_PaymentOrder_na</th>\n",
       "      <th>TransactionsDeb_na</th>\n",
       "      <th>TransactionsDeb_CA_na</th>\n",
       "      <th>TransactionsDebCash_Card_na</th>\n",
       "      <th>TransactionsDebCashless_Card_na</th>\n",
       "      <th>TransactionsDeb_PaymentOrder_na</th>\n",
       "      <th>profit_miss</th>\n",
       "      <th>fl_Gen_is_M</th>\n",
       "      <th>fl_Gen_is_missing</th>\n",
       "    </tr>\n",
       "  </thead>\n",
       "  <tbody>\n",
       "  </tbody>\n",
       "</table>\n",
       "<p>0 rows × 57 columns</p>\n",
       "</div>"
      ],
      "text/plain": [
       "Empty DataFrame\n",
       "Columns: [Client, Age, LOR, Count_CA, Count_SA, Count_MF, Count_OVD, Count_CC, Count_CL, ActBal_CA, ActBal_SA, ActBal_MF, ActBal_OVD, ActBal_CC, ActBal_CL, VolumeCred, VolumeCred_CA, TransactionsCred, TransactionsCred_CA, VolumeDeb, VolumeDeb_CA, VolumeDebCash_Card, VolumeDebCashless_Card, VolumeDeb_PaymentOrder, TransactionsDeb, TransactionsDeb_CA, TransactionsDebCash_Card, TransactionsDebCashless_Card, TransactionsDeb_PaymentOrder, profit, Count_SA_na, Count_MF_na, Count_OVD_na, Count_CC_na, Count_CL_na, ActBal_SA_na, ActBal_MF_na, ActBal_OVD_na, ActBal_CC_na, ActBal_CL_na, VolumeCred_na, VolumeCred_CA_na, TransactionsCred_na, TransactionsCred_CA_na, VolumeDeb_na, VolumeDeb_CA_na, VolumeDebCash_Card_na, VolumeDebCashless_Card_na, VolumeDeb_PaymentOrder_na, TransactionsDeb_na, TransactionsDeb_CA_na, TransactionsDebCash_Card_na, TransactionsDebCashless_Card_na, TransactionsDeb_PaymentOrder_na, profit_miss, fl_Gen_is_M, fl_Gen_is_missing]\n",
       "Index: []\n",
       "\n",
       "[0 rows x 57 columns]"
      ]
     },
     "execution_count": 275,
     "metadata": {},
     "output_type": "execute_result"
    }
   ],
   "source": [
    "dd=trainingSet\n",
    "dd[dd.Client.duplicated()]"
   ]
  },
  {
   "cell_type": "code",
   "execution_count": 276,
   "metadata": {},
   "outputs": [
    {
     "data": {
      "text/plain": [
       "Index(['Client', 'Age', 'LOR', 'Count_CA', 'Count_SA', 'Count_MF', 'Count_OVD',\n",
       "       'Count_CC', 'Count_CL', 'ActBal_CA', 'ActBal_SA', 'ActBal_MF',\n",
       "       'ActBal_OVD', 'ActBal_CC', 'ActBal_CL', 'VolumeCred', 'VolumeCred_CA',\n",
       "       'TransactionsCred', 'TransactionsCred_CA', 'VolumeDeb', 'VolumeDeb_CA',\n",
       "       'VolumeDebCash_Card', 'VolumeDebCashless_Card',\n",
       "       'VolumeDeb_PaymentOrder', 'TransactionsDeb', 'TransactionsDeb_CA',\n",
       "       'TransactionsDebCash_Card', 'TransactionsDebCashless_Card',\n",
       "       'TransactionsDeb_PaymentOrder', 'profit', 'Count_SA_na', 'Count_MF_na',\n",
       "       'Count_OVD_na', 'Count_CC_na', 'Count_CL_na', 'ActBal_SA_na',\n",
       "       'ActBal_MF_na', 'ActBal_OVD_na', 'ActBal_CC_na', 'ActBal_CL_na',\n",
       "       'VolumeCred_na', 'VolumeCred_CA_na', 'TransactionsCred_na',\n",
       "       'TransactionsCred_CA_na', 'VolumeDeb_na', 'VolumeDeb_CA_na',\n",
       "       'VolumeDebCash_Card_na', 'VolumeDebCashless_Card_na',\n",
       "       'VolumeDeb_PaymentOrder_na', 'TransactionsDeb_na',\n",
       "       'TransactionsDeb_CA_na', 'TransactionsDebCash_Card_na',\n",
       "       'TransactionsDebCashless_Card_na', 'TransactionsDeb_PaymentOrder_na',\n",
       "       'profit_miss', 'fl_Gen_is_M', 'fl_Gen_is_missing'],\n",
       "      dtype='object')"
      ]
     },
     "execution_count": 276,
     "metadata": {},
     "output_type": "execute_result"
    }
   ],
   "source": [
    "trainingSet.columns"
   ]
  },
  {
   "cell_type": "markdown",
   "metadata": {},
   "source": [
    "### 2.3.5 drop columns with high coorelation"
   ]
  },
  {
   "cell_type": "code",
   "execution_count": 277,
   "metadata": {},
   "outputs": [
    {
     "data": {
      "text/plain": [
       "Index(['Client', 'Age', 'LOR', 'Count_CA', 'Count_SA', 'Count_MF', 'Count_OVD',\n",
       "       'Count_CC', 'Count_CL', 'ActBal_CA', 'ActBal_SA', 'ActBal_MF',\n",
       "       'ActBal_OVD', 'ActBal_CC', 'ActBal_CL', 'TransactionsCred_CA',\n",
       "       'VolumeDeb_CA', 'VolumeDebCash_Card', 'VolumeDebCashless_Card',\n",
       "       'VolumeDeb_PaymentOrder', 'TransactionsDeb_CA',\n",
       "       'TransactionsDebCash_Card', 'TransactionsDebCashless_Card',\n",
       "       'TransactionsDeb_PaymentOrder', 'profit_miss', 'fl_Gen_is_M', 'profit'],\n",
       "      dtype='object')"
      ]
     },
     "execution_count": 277,
     "metadata": {},
     "output_type": "execute_result"
    }
   ],
   "source": [
    "# drop columns with high coorelation\n",
    "trainingSet=trainingSet[['Client', 'Age', 'LOR', 'Count_CA', 'Count_SA', 'Count_MF', 'Count_OVD',\n",
    "       'Count_CC', 'Count_CL', 'ActBal_CA', 'ActBal_SA', 'ActBal_MF',\n",
    "       'ActBal_OVD', 'ActBal_CC', 'ActBal_CL', 'VolumeCred', 'VolumeCred_CA',\n",
    "       'TransactionsCred', 'TransactionsCred_CA', 'VolumeDeb', 'VolumeDeb_CA',\n",
    "       'VolumeDebCash_Card', 'VolumeDebCashless_Card',\n",
    "       'VolumeDeb_PaymentOrder', 'TransactionsDeb', 'TransactionsDeb_CA',\n",
    "       'TransactionsDebCash_Card', 'TransactionsDebCashless_Card',\n",
    "       'TransactionsDeb_PaymentOrder','profit_miss', 'fl_Gen_is_M','profit',]].drop(['VolumeCred','TransactionsCred','VolumeDeb','TransactionsDeb','VolumeCred' ,'VolumeCred_CA'],axis=1)\n",
    "trainingSet.columns"
   ]
  },
  {
   "cell_type": "code",
   "execution_count": 278,
   "metadata": {},
   "outputs": [],
   "source": [
    "# print('The mean of Gen is {}'.format(np.mean(SATP[['Gen']].dropna(axis=0))))\n",
    "# print('The median of Gen is {}'.format(np.median(SATP[['Gen']].dropna(axis=0))))\n",
    "# value, count = np.unique(SATP[['Gen']], return_counts=True)\n",
    "# print('The mode of Gen is {}'.format(value[np.argmax(count)]))\n",
    "# print('The standard Gen of Var72 is {}'.format(np.std(SATP[['Gen']].dropna(axis=0))))"
   ]
  },
  {
   "cell_type": "code",
   "execution_count": 279,
   "metadata": {},
   "outputs": [
    {
     "data": {
      "text/html": [
       "<div>\n",
       "<style scoped>\n",
       "    .dataframe tbody tr th:only-of-type {\n",
       "        vertical-align: middle;\n",
       "    }\n",
       "\n",
       "    .dataframe tbody tr th {\n",
       "        vertical-align: top;\n",
       "    }\n",
       "\n",
       "    .dataframe thead th {\n",
       "        text-align: right;\n",
       "    }\n",
       "</style>\n",
       "<table border=\"1\" class=\"dataframe\">\n",
       "  <thead>\n",
       "    <tr style=\"text-align: right;\">\n",
       "      <th></th>\n",
       "      <th>Client</th>\n",
       "      <th>Age</th>\n",
       "      <th>LOR</th>\n",
       "      <th>Count_CA</th>\n",
       "      <th>Count_SA</th>\n",
       "      <th>Count_MF</th>\n",
       "      <th>Count_OVD</th>\n",
       "      <th>Count_CC</th>\n",
       "      <th>Count_CL</th>\n",
       "      <th>ActBal_CA</th>\n",
       "      <th>...</th>\n",
       "      <th>VolumeDebCash_Card</th>\n",
       "      <th>VolumeDebCashless_Card</th>\n",
       "      <th>VolumeDeb_PaymentOrder</th>\n",
       "      <th>TransactionsDeb_CA</th>\n",
       "      <th>TransactionsDebCash_Card</th>\n",
       "      <th>TransactionsDebCashless_Card</th>\n",
       "      <th>TransactionsDeb_PaymentOrder</th>\n",
       "      <th>profit_miss</th>\n",
       "      <th>fl_Gen_is_M</th>\n",
       "      <th>profit</th>\n",
       "    </tr>\n",
       "  </thead>\n",
       "  <tbody>\n",
       "    <tr>\n",
       "      <th>0</th>\n",
       "      <td>909</td>\n",
       "      <td>21</td>\n",
       "      <td>27</td>\n",
       "      <td>1</td>\n",
       "      <td>0.0</td>\n",
       "      <td>0.0</td>\n",
       "      <td>1.0</td>\n",
       "      <td>0.0</td>\n",
       "      <td>1.0</td>\n",
       "      <td>4.710714</td>\n",
       "      <td>...</td>\n",
       "      <td>178.571429</td>\n",
       "      <td>0.000000</td>\n",
       "      <td>166.571429</td>\n",
       "      <td>7.0</td>\n",
       "      <td>1.0</td>\n",
       "      <td>0.0</td>\n",
       "      <td>4.0</td>\n",
       "      <td>1</td>\n",
       "      <td>1</td>\n",
       "      <td>0.000000</td>\n",
       "    </tr>\n",
       "    <tr>\n",
       "      <th>1</th>\n",
       "      <td>1217</td>\n",
       "      <td>38</td>\n",
       "      <td>165</td>\n",
       "      <td>1</td>\n",
       "      <td>0.0</td>\n",
       "      <td>0.0</td>\n",
       "      <td>0.0</td>\n",
       "      <td>0.0</td>\n",
       "      <td>0.0</td>\n",
       "      <td>6752.244643</td>\n",
       "      <td>...</td>\n",
       "      <td>0.000000</td>\n",
       "      <td>0.000000</td>\n",
       "      <td>714.285714</td>\n",
       "      <td>1.0</td>\n",
       "      <td>0.0</td>\n",
       "      <td>0.0</td>\n",
       "      <td>1.0</td>\n",
       "      <td>0</td>\n",
       "      <td>1</td>\n",
       "      <td>0.000000</td>\n",
       "    </tr>\n",
       "    <tr>\n",
       "      <th>2</th>\n",
       "      <td>850</td>\n",
       "      <td>49</td>\n",
       "      <td>44</td>\n",
       "      <td>1</td>\n",
       "      <td>0.0</td>\n",
       "      <td>0.0</td>\n",
       "      <td>0.0</td>\n",
       "      <td>0.0</td>\n",
       "      <td>0.0</td>\n",
       "      <td>43.523214</td>\n",
       "      <td>...</td>\n",
       "      <td>0.000000</td>\n",
       "      <td>0.000000</td>\n",
       "      <td>121.928571</td>\n",
       "      <td>6.0</td>\n",
       "      <td>0.0</td>\n",
       "      <td>0.0</td>\n",
       "      <td>1.0</td>\n",
       "      <td>0</td>\n",
       "      <td>0</td>\n",
       "      <td>-1.106071</td>\n",
       "    </tr>\n",
       "    <tr>\n",
       "      <th>3</th>\n",
       "      <td>1473</td>\n",
       "      <td>54</td>\n",
       "      <td>34</td>\n",
       "      <td>1</td>\n",
       "      <td>1.0</td>\n",
       "      <td>0.0</td>\n",
       "      <td>0.0</td>\n",
       "      <td>1.0</td>\n",
       "      <td>1.0</td>\n",
       "      <td>29.024286</td>\n",
       "      <td>...</td>\n",
       "      <td>357.142857</td>\n",
       "      <td>444.597500</td>\n",
       "      <td>2076.785714</td>\n",
       "      <td>38.0</td>\n",
       "      <td>1.0</td>\n",
       "      <td>26.0</td>\n",
       "      <td>11.0</td>\n",
       "      <td>0</td>\n",
       "      <td>1</td>\n",
       "      <td>2.929643</td>\n",
       "    </tr>\n",
       "    <tr>\n",
       "      <th>4</th>\n",
       "      <td>1038</td>\n",
       "      <td>29</td>\n",
       "      <td>106</td>\n",
       "      <td>1</td>\n",
       "      <td>0.0</td>\n",
       "      <td>0.0</td>\n",
       "      <td>0.0</td>\n",
       "      <td>0.0</td>\n",
       "      <td>0.0</td>\n",
       "      <td>27.035714</td>\n",
       "      <td>...</td>\n",
       "      <td>0.000000</td>\n",
       "      <td>0.000000</td>\n",
       "      <td>0.000000</td>\n",
       "      <td>0.0</td>\n",
       "      <td>0.0</td>\n",
       "      <td>0.0</td>\n",
       "      <td>0.0</td>\n",
       "      <td>0</td>\n",
       "      <td>1</td>\n",
       "      <td>0.000000</td>\n",
       "    </tr>\n",
       "    <tr>\n",
       "      <th>...</th>\n",
       "      <td>...</td>\n",
       "      <td>...</td>\n",
       "      <td>...</td>\n",
       "      <td>...</td>\n",
       "      <td>...</td>\n",
       "      <td>...</td>\n",
       "      <td>...</td>\n",
       "      <td>...</td>\n",
       "      <td>...</td>\n",
       "      <td>...</td>\n",
       "      <td>...</td>\n",
       "      <td>...</td>\n",
       "      <td>...</td>\n",
       "      <td>...</td>\n",
       "      <td>...</td>\n",
       "      <td>...</td>\n",
       "      <td>...</td>\n",
       "      <td>...</td>\n",
       "      <td>...</td>\n",
       "      <td>...</td>\n",
       "      <td>...</td>\n",
       "    </tr>\n",
       "    <tr>\n",
       "      <th>1610</th>\n",
       "      <td>409</td>\n",
       "      <td>31</td>\n",
       "      <td>91</td>\n",
       "      <td>1</td>\n",
       "      <td>0.0</td>\n",
       "      <td>0.0</td>\n",
       "      <td>1.0</td>\n",
       "      <td>0.0</td>\n",
       "      <td>0.0</td>\n",
       "      <td>348.402857</td>\n",
       "      <td>...</td>\n",
       "      <td>178.571429</td>\n",
       "      <td>11.414286</td>\n",
       "      <td>271.714286</td>\n",
       "      <td>12.0</td>\n",
       "      <td>1.0</td>\n",
       "      <td>1.0</td>\n",
       "      <td>9.0</td>\n",
       "      <td>1</td>\n",
       "      <td>1</td>\n",
       "      <td>0.000000</td>\n",
       "    </tr>\n",
       "    <tr>\n",
       "      <th>1611</th>\n",
       "      <td>384</td>\n",
       "      <td>23</td>\n",
       "      <td>160</td>\n",
       "      <td>1</td>\n",
       "      <td>0.0</td>\n",
       "      <td>0.0</td>\n",
       "      <td>0.0</td>\n",
       "      <td>0.0</td>\n",
       "      <td>0.0</td>\n",
       "      <td>2418.876786</td>\n",
       "      <td>...</td>\n",
       "      <td>50.000000</td>\n",
       "      <td>37.372500</td>\n",
       "      <td>1.071429</td>\n",
       "      <td>8.0</td>\n",
       "      <td>2.0</td>\n",
       "      <td>5.0</td>\n",
       "      <td>1.0</td>\n",
       "      <td>0</td>\n",
       "      <td>1</td>\n",
       "      <td>13.613214</td>\n",
       "    </tr>\n",
       "    <tr>\n",
       "      <th>1612</th>\n",
       "      <td>977</td>\n",
       "      <td>46</td>\n",
       "      <td>59</td>\n",
       "      <td>1</td>\n",
       "      <td>0.0</td>\n",
       "      <td>0.0</td>\n",
       "      <td>0.0</td>\n",
       "      <td>0.0</td>\n",
       "      <td>0.0</td>\n",
       "      <td>2639.308571</td>\n",
       "      <td>...</td>\n",
       "      <td>75.000000</td>\n",
       "      <td>1.067857</td>\n",
       "      <td>0.035714</td>\n",
       "      <td>4.0</td>\n",
       "      <td>2.0</td>\n",
       "      <td>1.0</td>\n",
       "      <td>1.0</td>\n",
       "      <td>0</td>\n",
       "      <td>1</td>\n",
       "      <td>-0.570357</td>\n",
       "    </tr>\n",
       "    <tr>\n",
       "      <th>1613</th>\n",
       "      <td>629</td>\n",
       "      <td>61</td>\n",
       "      <td>173</td>\n",
       "      <td>1</td>\n",
       "      <td>0.0</td>\n",
       "      <td>2.0</td>\n",
       "      <td>0.0</td>\n",
       "      <td>0.0</td>\n",
       "      <td>0.0</td>\n",
       "      <td>61.766786</td>\n",
       "      <td>...</td>\n",
       "      <td>660.714286</td>\n",
       "      <td>41.355000</td>\n",
       "      <td>115.178571</td>\n",
       "      <td>17.0</td>\n",
       "      <td>3.0</td>\n",
       "      <td>5.0</td>\n",
       "      <td>8.0</td>\n",
       "      <td>0</td>\n",
       "      <td>0</td>\n",
       "      <td>47.080714</td>\n",
       "    </tr>\n",
       "    <tr>\n",
       "      <th>1614</th>\n",
       "      <td>1466</td>\n",
       "      <td>63</td>\n",
       "      <td>97</td>\n",
       "      <td>1</td>\n",
       "      <td>0.0</td>\n",
       "      <td>0.0</td>\n",
       "      <td>1.0</td>\n",
       "      <td>0.0</td>\n",
       "      <td>0.0</td>\n",
       "      <td>21.627500</td>\n",
       "      <td>...</td>\n",
       "      <td>71.428571</td>\n",
       "      <td>23.214286</td>\n",
       "      <td>526.392857</td>\n",
       "      <td>6.0</td>\n",
       "      <td>1.0</td>\n",
       "      <td>1.0</td>\n",
       "      <td>3.0</td>\n",
       "      <td>1</td>\n",
       "      <td>1</td>\n",
       "      <td>0.000000</td>\n",
       "    </tr>\n",
       "  </tbody>\n",
       "</table>\n",
       "<p>1615 rows × 27 columns</p>\n",
       "</div>"
      ],
      "text/plain": [
       "      Client  Age  LOR  Count_CA  Count_SA  Count_MF  Count_OVD  Count_CC  \\\n",
       "0        909   21   27         1       0.0       0.0        1.0       0.0   \n",
       "1       1217   38  165         1       0.0       0.0        0.0       0.0   \n",
       "2        850   49   44         1       0.0       0.0        0.0       0.0   \n",
       "3       1473   54   34         1       1.0       0.0        0.0       1.0   \n",
       "4       1038   29  106         1       0.0       0.0        0.0       0.0   \n",
       "...      ...  ...  ...       ...       ...       ...        ...       ...   \n",
       "1610     409   31   91         1       0.0       0.0        1.0       0.0   \n",
       "1611     384   23  160         1       0.0       0.0        0.0       0.0   \n",
       "1612     977   46   59         1       0.0       0.0        0.0       0.0   \n",
       "1613     629   61  173         1       0.0       2.0        0.0       0.0   \n",
       "1614    1466   63   97         1       0.0       0.0        1.0       0.0   \n",
       "\n",
       "      Count_CL    ActBal_CA  ...  VolumeDebCash_Card  VolumeDebCashless_Card  \\\n",
       "0          1.0     4.710714  ...          178.571429                0.000000   \n",
       "1          0.0  6752.244643  ...            0.000000                0.000000   \n",
       "2          0.0    43.523214  ...            0.000000                0.000000   \n",
       "3          1.0    29.024286  ...          357.142857              444.597500   \n",
       "4          0.0    27.035714  ...            0.000000                0.000000   \n",
       "...        ...          ...  ...                 ...                     ...   \n",
       "1610       0.0   348.402857  ...          178.571429               11.414286   \n",
       "1611       0.0  2418.876786  ...           50.000000               37.372500   \n",
       "1612       0.0  2639.308571  ...           75.000000                1.067857   \n",
       "1613       0.0    61.766786  ...          660.714286               41.355000   \n",
       "1614       0.0    21.627500  ...           71.428571               23.214286   \n",
       "\n",
       "      VolumeDeb_PaymentOrder  TransactionsDeb_CA  TransactionsDebCash_Card  \\\n",
       "0                 166.571429                 7.0                       1.0   \n",
       "1                 714.285714                 1.0                       0.0   \n",
       "2                 121.928571                 6.0                       0.0   \n",
       "3                2076.785714                38.0                       1.0   \n",
       "4                   0.000000                 0.0                       0.0   \n",
       "...                      ...                 ...                       ...   \n",
       "1610              271.714286                12.0                       1.0   \n",
       "1611                1.071429                 8.0                       2.0   \n",
       "1612                0.035714                 4.0                       2.0   \n",
       "1613              115.178571                17.0                       3.0   \n",
       "1614              526.392857                 6.0                       1.0   \n",
       "\n",
       "      TransactionsDebCashless_Card  TransactionsDeb_PaymentOrder  profit_miss  \\\n",
       "0                              0.0                           4.0            1   \n",
       "1                              0.0                           1.0            0   \n",
       "2                              0.0                           1.0            0   \n",
       "3                             26.0                          11.0            0   \n",
       "4                              0.0                           0.0            0   \n",
       "...                            ...                           ...          ...   \n",
       "1610                           1.0                           9.0            1   \n",
       "1611                           5.0                           1.0            0   \n",
       "1612                           1.0                           1.0            0   \n",
       "1613                           5.0                           8.0            0   \n",
       "1614                           1.0                           3.0            1   \n",
       "\n",
       "      fl_Gen_is_M     profit  \n",
       "0               1   0.000000  \n",
       "1               1   0.000000  \n",
       "2               0  -1.106071  \n",
       "3               1   2.929643  \n",
       "4               1   0.000000  \n",
       "...           ...        ...  \n",
       "1610            1   0.000000  \n",
       "1611            1  13.613214  \n",
       "1612            1  -0.570357  \n",
       "1613            0  47.080714  \n",
       "1614            1   0.000000  \n",
       "\n",
       "[1615 rows x 27 columns]"
      ]
     },
     "execution_count": 279,
     "metadata": {},
     "output_type": "execute_result"
    }
   ],
   "source": [
    "trainingSet"
   ]
  },
  {
   "cell_type": "markdown",
   "metadata": {},
   "source": [
    "# 3. Partition data"
   ]
  },
  {
   "cell_type": "code",
   "execution_count": 280,
   "metadata": {},
   "outputs": [
    {
     "name": "stdout",
     "output_type": "stream",
     "text": [
      "proportion of test set: 0.4\n",
      "proportion of trian set: 0.6\n"
     ]
    }
   ],
   "source": [
    "# building training set filter by 60% of the raw data in the Product_sales\n",
    "train=trainingSet[trainingSet['profit_miss']==0].drop('profit_miss',axis=1)\n",
    "test=trainingSet[trainingSet['profit_miss']==1].drop('profit_miss',axis=1)\n",
    "print(\"proportion of test set:\",test.shape[0]/trainingSet.shape[0])\n",
    "print(\"proportion of trian set:\",train.shape[0]/trainingSet.shape[0])"
   ]
  },
  {
   "cell_type": "code",
   "execution_count": 281,
   "metadata": {},
   "outputs": [],
   "source": [
    "from ieseg import partition\n",
    "from ieseg import roc\n",
    "partitions = partition(dataFrame = train, splitStrategy = [0.7,0.3])\n",
    "training_Set = partitions[0]\n",
    "test_Set     = partitions[1]\n",
    "y_train = training_Set.profit.values\n",
    "y_train = train.profit.values"
   ]
  },
  {
   "cell_type": "markdown",
   "metadata": {},
   "source": [
    "## 3.1 Feature importance detection"
   ]
  },
  {
   "cell_type": "code",
   "execution_count": 282,
   "metadata": {},
   "outputs": [
    {
     "name": "stdout",
     "output_type": "stream",
     "text": [
      "Age - p-vlue = 0.8673703528446169 - selected : 0\n",
      "LOR - p-vlue = 0.13772484050847114 - selected : 0\n",
      "Count_CA - p-vlue = 0.9456933115513029 - selected : 0\n",
      "Count_SA - p-vlue = 0.4397549279017301 - selected : 0\n",
      "Count_MF - p-vlue = 0.6898220998162231 - selected : 0\n",
      "Count_OVD - p-vlue = 0.002567231599432423 - selected : 1\n",
      "Count_CC - p-vlue = 0.6341180537896379 - selected : 0\n",
      "Count_CL - p-vlue = 0.687268436573002 - selected : 0\n",
      "ActBal_CA - p-vlue = 0.9302633854077986 - selected : 0\n",
      "ActBal_SA - p-vlue = 0.9070484193829436 - selected : 0\n",
      "ActBal_MF - p-vlue = 0.5291982909866962 - selected : 0\n",
      "ActBal_OVD - p-vlue = 0.6598390549651522 - selected : 0\n",
      "ActBal_CC - p-vlue = 0.5099027155099473 - selected : 0\n",
      "ActBal_CL - p-vlue = 0.7810416934329493 - selected : 0\n",
      "TransactionsCred_CA - p-vlue = 0.3107894809903242 - selected : 0\n",
      "VolumeDeb_CA - p-vlue = 0.3688540820232805 - selected : 0\n",
      "VolumeDebCash_Card - p-vlue = 0.6813776151657248 - selected : 0\n",
      "VolumeDebCashless_Card - p-vlue = 0.5136768248673229 - selected : 0\n",
      "VolumeDeb_PaymentOrder - p-vlue = 0.10621832707375856 - selected : 0\n",
      "TransactionsDeb_CA - p-vlue = 0.6502085077818672 - selected : 0\n",
      "TransactionsDebCash_Card - p-vlue = 0.3769768094610035 - selected : 0\n",
      "TransactionsDebCashless_Card - p-vlue = 0.6272411404891629 - selected : 0\n",
      "TransactionsDeb_PaymentOrder - p-vlue = 0.5732486463166305 - selected : 0\n",
      "fl_Gen_is_M - p-vlue = 0.5638324581293173 - selected : 0\n"
     ]
    }
   ],
   "source": [
    "selectedFeatures = []\n",
    "target = 'profit'\n",
    "\n",
    "for column in train.columns:\n",
    "    if column not in (\"Client\",\"profit\"):\n",
    "        (pearson,pvalue) = pearsonr(train[column],train[target])\n",
    "        print(f\"{column} - p-vlue = {pvalue} - selected : {1 if pvalue < 0.05 else 0}\")\n",
    "        if pvalue < 0.05:\n",
    "            selectedFeatures.append(column)"
   ]
  },
  {
   "cell_type": "code",
   "execution_count": 283,
   "metadata": {
    "scrolled": true
   },
   "outputs": [
    {
     "data": {
      "text/plain": [
       "['Count_OVD']"
      ]
     },
     "execution_count": 283,
     "metadata": {},
     "output_type": "execute_result"
    }
   ],
   "source": [
    "selectedFeatures"
   ]
  },
  {
   "cell_type": "code",
   "execution_count": 284,
   "metadata": {},
   "outputs": [
    {
     "data": {
      "text/plain": [
       "Lasso(alpha=0.001)"
      ]
     },
     "execution_count": 284,
     "metadata": {},
     "output_type": "execute_result"
    }
   ],
   "source": [
    "lasso=Lasso(alpha=0.001)\n",
    "lasso.fit(train.drop(['Client','profit'],axis=1),y_train)"
   ]
  },
  {
   "cell_type": "code",
   "execution_count": 285,
   "metadata": {},
   "outputs": [
    {
     "data": {
      "text/html": [
       "<div>\n",
       "<style scoped>\n",
       "    .dataframe tbody tr th:only-of-type {\n",
       "        vertical-align: middle;\n",
       "    }\n",
       "\n",
       "    .dataframe tbody tr th {\n",
       "        vertical-align: top;\n",
       "    }\n",
       "\n",
       "    .dataframe thead th {\n",
       "        text-align: right;\n",
       "    }\n",
       "</style>\n",
       "<table border=\"1\" class=\"dataframe\">\n",
       "  <thead>\n",
       "    <tr style=\"text-align: right;\">\n",
       "      <th></th>\n",
       "      <th>Feature Importance</th>\n",
       "    </tr>\n",
       "  </thead>\n",
       "  <tbody>\n",
       "    <tr>\n",
       "      <th>Count_OVD</th>\n",
       "      <td>6.149405</td>\n",
       "    </tr>\n",
       "    <tr>\n",
       "      <th>Count_SA</th>\n",
       "      <td>1.111559</td>\n",
       "    </tr>\n",
       "    <tr>\n",
       "      <th>TransactionsDebCash_Card</th>\n",
       "      <td>0.245843</td>\n",
       "    </tr>\n",
       "    <tr>\n",
       "      <th>Count_CA</th>\n",
       "      <td>0.090211</td>\n",
       "    </tr>\n",
       "    <tr>\n",
       "      <th>TransactionsDeb_CA</th>\n",
       "      <td>0.080622</td>\n",
       "    </tr>\n",
       "    <tr>\n",
       "      <th>Count_MF</th>\n",
       "      <td>0.079061</td>\n",
       "    </tr>\n",
       "    <tr>\n",
       "      <th>LOR</th>\n",
       "      <td>0.015122</td>\n",
       "    </tr>\n",
       "    <tr>\n",
       "      <th>Age</th>\n",
       "      <td>0.010770</td>\n",
       "    </tr>\n",
       "    <tr>\n",
       "      <th>VolumeDeb_PaymentOrder</th>\n",
       "      <td>0.000608</td>\n",
       "    </tr>\n",
       "    <tr>\n",
       "      <th>ActBal_CL</th>\n",
       "      <td>0.000029</td>\n",
       "    </tr>\n",
       "    <tr>\n",
       "      <th>ActBal_MF</th>\n",
       "      <td>0.000007</td>\n",
       "    </tr>\n",
       "    <tr>\n",
       "      <th>ActBal_CA</th>\n",
       "      <td>-0.000002</td>\n",
       "    </tr>\n",
       "    <tr>\n",
       "      <th>ActBal_SA</th>\n",
       "      <td>-0.000025</td>\n",
       "    </tr>\n",
       "    <tr>\n",
       "      <th>VolumeDeb_CA</th>\n",
       "      <td>-0.000101</td>\n",
       "    </tr>\n",
       "    <tr>\n",
       "      <th>VolumeDebCash_Card</th>\n",
       "      <td>-0.000749</td>\n",
       "    </tr>\n",
       "    <tr>\n",
       "      <th>VolumeDebCashless_Card</th>\n",
       "      <td>-0.001650</td>\n",
       "    </tr>\n",
       "    <tr>\n",
       "      <th>ActBal_CC</th>\n",
       "      <td>-0.003607</td>\n",
       "    </tr>\n",
       "    <tr>\n",
       "      <th>ActBal_OVD</th>\n",
       "      <td>-0.006351</td>\n",
       "    </tr>\n",
       "    <tr>\n",
       "      <th>TransactionsCred_CA</th>\n",
       "      <td>-0.033324</td>\n",
       "    </tr>\n",
       "    <tr>\n",
       "      <th>TransactionsDebCashless_Card</th>\n",
       "      <td>-0.115918</td>\n",
       "    </tr>\n",
       "    <tr>\n",
       "      <th>TransactionsDeb_PaymentOrder</th>\n",
       "      <td>-0.123821</td>\n",
       "    </tr>\n",
       "    <tr>\n",
       "      <th>fl_Gen_is_M</th>\n",
       "      <td>-0.631618</td>\n",
       "    </tr>\n",
       "    <tr>\n",
       "      <th>Count_CC</th>\n",
       "      <td>-1.141511</td>\n",
       "    </tr>\n",
       "    <tr>\n",
       "      <th>Count_CL</th>\n",
       "      <td>-1.323904</td>\n",
       "    </tr>\n",
       "  </tbody>\n",
       "</table>\n",
       "</div>"
      ],
      "text/plain": [
       "                              Feature Importance\n",
       "Count_OVD                               6.149405\n",
       "Count_SA                                1.111559\n",
       "TransactionsDebCash_Card                0.245843\n",
       "Count_CA                                0.090211\n",
       "TransactionsDeb_CA                      0.080622\n",
       "Count_MF                                0.079061\n",
       "LOR                                     0.015122\n",
       "Age                                     0.010770\n",
       "VolumeDeb_PaymentOrder                  0.000608\n",
       "ActBal_CL                               0.000029\n",
       "ActBal_MF                               0.000007\n",
       "ActBal_CA                              -0.000002\n",
       "ActBal_SA                              -0.000025\n",
       "VolumeDeb_CA                           -0.000101\n",
       "VolumeDebCash_Card                     -0.000749\n",
       "VolumeDebCashless_Card                 -0.001650\n",
       "ActBal_CC                              -0.003607\n",
       "ActBal_OVD                             -0.006351\n",
       "TransactionsCred_CA                    -0.033324\n",
       "TransactionsDebCashless_Card           -0.115918\n",
       "TransactionsDeb_PaymentOrder           -0.123821\n",
       "fl_Gen_is_M                            -0.631618\n",
       "Count_CC                               -1.141511\n",
       "Count_CL                               -1.323904"
      ]
     },
     "execution_count": 285,
     "metadata": {},
     "output_type": "execute_result"
    }
   ],
   "source": [
    "FI_lasso = pd.DataFrame({\"Feature Importance\":lasso.coef_}, index=train.drop(['Client','profit'],axis=1).columns)\n",
    "FI_lasso.sort_values(\"Feature Importance\",ascending=False)"
   ]
  },
  {
   "cell_type": "code",
   "execution_count": 286,
   "metadata": {},
   "outputs": [
    {
     "data": {
      "image/png": "[encoded data removed]",
      "text/plain": [
       "<Figure size 1080x1800 with 1 Axes>"
      ]
     },
     "metadata": {
      "needs_background": "light"
     },
     "output_type": "display_data"
    }
   ],
   "source": [
    "FI_lasso[FI_lasso[\"Feature Importance\"]!=0].sort_values(\"Feature Importance\").plot(kind=\"barh\",figsize=(15,25))\n",
    "plt.xticks(rotation=90)\n",
    "plt.show()"
   ]
  },
  {
   "cell_type": "code",
   "execution_count": 287,
   "metadata": {},
   "outputs": [],
   "source": [
    "def FisherScore(bt, target_var, predictors):\n",
    "    \"\"\"\n",
    "    This function calculate the Fisher score of a variable.\n",
    "\n",
    "    Ref:\n",
    "    ---\n",
    "    Verbeke, W., Dejaeger, K., Martens, D., Hur, J., & Baesens, B. (2012). New insights\n",
    "    into churn prediction in the telecommunication sector: A profit driven data mining\n",
    "    approach. European Journal of Operational Research, 218(1), 211-229.\n",
    "    \"\"\"\n",
    "    \n",
    "    # Get the unique values of dependent variable\n",
    "    target_var_val = bt[target_var].unique()\n",
    "    # Calculate FisherScore for each predictor\n",
    "    predictor_FisherScore = []\n",
    "    for v in predictors:\n",
    "        fs = np.abs(np.mean(bt.loc[bt[target_var]==target_var_val[0], v]) - np.mean(bt.loc[bt[target_var]==target_var_val[1], v])) / \\\n",
    "             np.sqrt(np.var(bt.loc[bt[target_var]==target_var_val[0], v]) + np.var(bt.loc[bt[target_var]==target_var_val[1], v]))\n",
    "        predictor_FisherScore.append(fs)\n",
    "    return predictor_FisherScore"
   ]
  },
  {
   "cell_type": "code",
   "execution_count": 288,
   "metadata": {},
   "outputs": [
    {
     "data": {
      "text/html": [
       "<div>\n",
       "<style scoped>\n",
       "    .dataframe tbody tr th:only-of-type {\n",
       "        vertical-align: middle;\n",
       "    }\n",
       "\n",
       "    .dataframe tbody tr th {\n",
       "        vertical-align: top;\n",
       "    }\n",
       "\n",
       "    .dataframe thead th {\n",
       "        text-align: right;\n",
       "    }\n",
       "</style>\n",
       "<table border=\"1\" class=\"dataframe\">\n",
       "  <thead>\n",
       "    <tr style=\"text-align: right;\">\n",
       "      <th></th>\n",
       "      <th>predictor</th>\n",
       "      <th>fisherscore</th>\n",
       "    </tr>\n",
       "  </thead>\n",
       "  <tbody>\n",
       "    <tr>\n",
       "      <th>9</th>\n",
       "      <td>ActBal_SA</td>\n",
       "      <td>0.511052</td>\n",
       "    </tr>\n",
       "    <tr>\n",
       "      <th>21</th>\n",
       "      <td>TransactionsDebCashless_Card</td>\n",
       "      <td>0.390096</td>\n",
       "    </tr>\n",
       "    <tr>\n",
       "      <th>6</th>\n",
       "      <td>Count_CC</td>\n",
       "      <td>0.369274</td>\n",
       "    </tr>\n",
       "    <tr>\n",
       "      <th>17</th>\n",
       "      <td>VolumeDebCashless_Card</td>\n",
       "      <td>0.354738</td>\n",
       "    </tr>\n",
       "    <tr>\n",
       "      <th>8</th>\n",
       "      <td>ActBal_CA</td>\n",
       "      <td>0.309008</td>\n",
       "    </tr>\n",
       "  </tbody>\n",
       "</table>\n",
       "</div>"
      ],
      "text/plain": [
       "                       predictor  fisherscore\n",
       "9                      ActBal_SA     0.511052\n",
       "21  TransactionsDebCashless_Card     0.390096\n",
       "6                       Count_CC     0.369274\n",
       "17        VolumeDebCashless_Card     0.354738\n",
       "8                      ActBal_CA     0.309008"
      ]
     },
     "execution_count": 288,
     "metadata": {},
     "output_type": "execute_result"
    }
   ],
   "source": [
    "# Create several lists to handle variables\n",
    "id_var = ['Client']\n",
    "target_var = [\"profit\"]\n",
    "predictors = [v for v in train.columns if v not in  id_var + target_var]\n",
    "# Calculate Fisher Score for all variable\n",
    "fs = FisherScore(train, target_var[0], predictors)\n",
    "fs_df = pd.DataFrame({\"predictor\":predictors, \"fisherscore\":fs})\n",
    "fs_df = fs_df.sort_values('fisherscore', ascending=False)\n",
    "fs_df.head()"
   ]
  },
  {
   "cell_type": "code",
   "execution_count": 289,
   "metadata": {
    "scrolled": true
   },
   "outputs": [
    {
     "data": {
      "image/png": "[encoded data removed]",
      "text/plain": [
       "<Figure size 432x288 with 1 Axes>"
      ]
     },
     "metadata": {
      "needs_background": "light"
     },
     "output_type": "display_data"
    }
   ],
   "source": [
    "# Visualize the Fisher Score\n",
    "plt.plot(fs_df['fisherscore'].values.squeeze())\n",
    "plt.axhline(y=0.01, linestyle='dashed', color='red')\n",
    "plt.axhline(y=0.03, linestyle='dashed', color='green')\n",
    "plt.xticks(rotation=45)\n",
    "plt.xlabel(str(fs_df.shape[0]) + ' predictors')\n",
    "plt.ylabel('Fisher Score')\n",
    "plt.legend(['Fisher Score', '0.01', '0.03'])\n",
    "plt.show()"
   ]
  },
  {
   "cell_type": "code",
   "execution_count": 290,
   "metadata": {},
   "outputs": [
    {
     "name": "stdout",
     "output_type": "stream",
     "text": [
      "Selected # vars : 15\n"
     ]
    },
    {
     "data": {
      "text/plain": [
       "array(['ActBal_SA', 'TransactionsDebCashless_Card', 'Count_CC',\n",
       "       'VolumeDebCashless_Card', 'ActBal_CA', 'Count_CL',\n",
       "       'TransactionsCred_CA', 'ActBal_CC', 'ActBal_CL', 'ActBal_MF',\n",
       "       'ActBal_OVD', 'Count_CA', 'LOR', 'Count_SA',\n",
       "       'TransactionsDebCash_Card'], dtype=object)"
      ]
     },
     "execution_count": 290,
     "metadata": {},
     "output_type": "execute_result"
    }
   ],
   "source": [
    "# Select the top variables based on Fisher Score\n",
    "#top_fs_vars = fs_df[fs_df['fisherscore'] >= 0.03]['predictor'].values\n",
    "top_fs_vars = fs_df['predictor'].values[:15]\n",
    "print(\"Selected # vars :\", len(top_fs_vars))\n",
    "top_fs_vars"
   ]
  },
  {
   "cell_type": "code",
   "execution_count": 291,
   "metadata": {},
   "outputs": [
    {
     "data": {
      "text/plain": [
       "17"
      ]
     },
     "execution_count": 291,
     "metadata": {},
     "output_type": "execute_result"
    }
   ],
   "source": [
    " len(['ActBal_SA', 'TransactionsDebCashless_Card',\n",
    "       'VolumeDebCashless_Card', 'ActBal_CA', 'TransactionsCred_CA',\n",
    "       'TransactionsCred', 'ActBal_CC', 'ActBal_CL', 'ActBal_MF',\n",
    "       'ActBal_OVD', 'Count_CA', 'LOR', 'Count_SA',\n",
    "       'TransactionsDebCash_Card', 'fl_Gen_is_M', 'profit', 'Client'])"
   ]
  },
  {
   "cell_type": "code",
   "execution_count": 292,
   "metadata": {},
   "outputs": [],
   "source": [
    "top_fs_vars1=np.append(top_fs_vars,['profit','Client'])"
   ]
  },
  {
   "cell_type": "code",
   "execution_count": 293,
   "metadata": {},
   "outputs": [],
   "source": [
    "train=train[top_fs_vars1]\n",
    "test=test[top_fs_vars1]"
   ]
  },
  {
   "cell_type": "markdown",
   "metadata": {},
   "source": [
    "# 4. basic model\n",
    "_quantitative response as regression problems"
   ]
  },
  {
   "cell_type": "markdown",
   "metadata": {},
   "source": [
    "## 4.1 Cross validatiion method"
   ]
  },
  {
   "cell_type": "code",
   "execution_count": 294,
   "metadata": {},
   "outputs": [],
   "source": [
    "# cross_val_score默认使用K折交叉验证策略。此处先使用KFold的shuffle参数混洗数据\n",
    "# neg_mean_squared_error：负均方误差，是损失函数，优化目标是使其最小化\n",
    "# cross_val_score uses K-fold cross-validation strategy by default. Here first use KFold's shuffle parameter to shuffle the data\n",
    "# neg_mean_squared_error: Negative mean squared error, is the loss function, the optimization goal is to minimize it\n",
    "\n",
    "n_splits = 5\n",
    "def nmse_cv(model):\n",
    "    kf = KFold(n_splits, shuffle=True, random_state=42).get_n_splits(train.drop(['Client','profit'],axis=1).values)\n",
    "    nmse = np.sqrt(-cross_val_score(model, train.drop(['Client','profit'],axis=1).values, y_train, scoring='neg_mean_squared_error', cv=kf))\n",
    "    return(nmse)"
   ]
  },
  {
   "cell_type": "markdown",
   "metadata": {},
   "source": [
    "## 4.3  build models"
   ]
  },
  {
   "cell_type": "code",
   "execution_count": 295,
   "metadata": {},
   "outputs": [],
   "source": [
    "# lasso/ElasticNet模型对异常值敏感，使用RobustScaler缩放有离群值的数据\n",
    "# lasso/ElasticNet model is sensitive to outliers, use RobustScaler to scale data with outliers\n",
    "\n",
    "lasso = make_pipeline(RobustScaler(), Lasso(alpha=0.0005, random_state=1))\n",
    "ENet = make_pipeline(RobustScaler(), ElasticNet(alpha=0.0005, l1_ratio=.9, random_state=3))\n",
    "\n",
    "# lasso = make_pipeline( Lasso(alpha=0.0005, random_state=1))\n",
    "# ENet = make_pipeline( ElasticNet(alpha=0.0005, l1_ratio=.9, random_state=3))\n",
    "KRR = KernelRidge(alpha=0.6, kernel='polynomial', degree=2, coef0=0.25)\n",
    "GBoost = GradientBoostingRegressor(n_estimators=3000, learning_rate=0.05,\n",
    "                                   max_depth=4, max_features='sqrt',\n",
    "                                   min_samples_leaf=15, min_samples_split=10, \n",
    "                                   loss='huber', random_state =5)\n",
    "model_xgb = xgb.XGBRegressor(colsample_bytree=0.4603, gamma=0.0468, \n",
    "                             learning_rate=0.05, max_depth=3, \n",
    "                             min_child_weight=1.7817, n_estimators=2200,\n",
    "                             reg_alpha=0.4640, reg_lambda=0.8571,\n",
    "                             subsample=0.5213, silent=1,\n",
    "                             random_state =7, nthread = -1)\n",
    "model_lgb = lgb.LGBMRegressor(objective='regression',num_leaves=5,\n",
    "                              learning_rate=0.05, n_estimators=720,\n",
    "                              max_bin = 55, bagging_fraction = 0.8,\n",
    "                              bagging_freq = 5, feature_fraction = 0.2319,\n",
    "                              feature_fraction_seed=9, bagging_seed=9,\n",
    "                              min_data_in_leaf =6, min_sum_hessian_in_leaf = 11)"
   ]
  },
  {
   "cell_type": "markdown",
   "metadata": {},
   "source": [
    "### 4.4  models performance"
   ]
  },
  {
   "cell_type": "code",
   "execution_count": 296,
   "metadata": {},
   "outputs": [
    {
     "name": "stdout",
     "output_type": "stream",
     "text": [
      "Lasso score:18.8630 (9.4652) \n",
      "\n",
      "ELasticNet score:18.8630 (9.4652) \n",
      "\n"
     ]
    },
    {
     "name": "stderr",
     "output_type": "stream",
     "text": [
      "C:\\Users\\MRZHE\\anaconda3\\lib\\site-packages\\sklearn\\linear_model\\_ridge.py:190: UserWarning: Singular matrix in solving dual problem. Using least-squares solution instead.\n",
      "  warnings.warn(\"Singular matrix in solving dual problem. Using \"\n",
      "C:\\Users\\MRZHE\\anaconda3\\lib\\site-packages\\sklearn\\linear_model\\_ridge.py:190: UserWarning: Singular matrix in solving dual problem. Using least-squares solution instead.\n",
      "  warnings.warn(\"Singular matrix in solving dual problem. Using \"\n",
      "C:\\Users\\MRZHE\\anaconda3\\lib\\site-packages\\sklearn\\linear_model\\_ridge.py:190: UserWarning: Singular matrix in solving dual problem. Using least-squares solution instead.\n",
      "  warnings.warn(\"Singular matrix in solving dual problem. Using \"\n",
      "C:\\Users\\MRZHE\\anaconda3\\lib\\site-packages\\sklearn\\linear_model\\_ridge.py:190: UserWarning: Singular matrix in solving dual problem. Using least-squares solution instead.\n",
      "  warnings.warn(\"Singular matrix in solving dual problem. Using \"\n",
      "C:\\Users\\MRZHE\\anaconda3\\lib\\site-packages\\sklearn\\linear_model\\_ridge.py:190: UserWarning: Singular matrix in solving dual problem. Using least-squares solution instead.\n",
      "  warnings.warn(\"Singular matrix in solving dual problem. Using \"\n"
     ]
    },
    {
     "name": "stdout",
     "output_type": "stream",
     "text": [
      "KernelRidge score:35.7097 (23.0853) \n",
      "\n",
      "GradientBoosting score:19.2038 (9.4060) \n",
      "\n",
      "[05:57:42] WARNING: C:/Users/Administrator/workspace/xgboost-win64_release_1.3.0/src/learner.cc:541: \n",
      "Parameters: { silent } might not be used.\n",
      "\n",
      "  This may not be accurate due to some parameters are only used in language bindings but\n",
      "  passed down to XGBoost core.  Or some parameters are not used but slip through this\n",
      "  verification. Please open an issue if you find above cases.\n",
      "\n",
      "\n",
      "[05:57:43] WARNING: C:/Users/Administrator/workspace/xgboost-win64_release_1.3.0/src/learner.cc:541: \n",
      "Parameters: { silent } might not be used.\n",
      "\n",
      "  This may not be accurate due to some parameters are only used in language bindings but\n",
      "  passed down to XGBoost core.  Or some parameters are not used but slip through this\n",
      "  verification. Please open an issue if you find above cases.\n",
      "\n",
      "\n",
      "[05:57:44] WARNING: C:/Users/Administrator/workspace/xgboost-win64_release_1.3.0/src/learner.cc:541: \n",
      "Parameters: { silent } might not be used.\n",
      "\n",
      "  This may not be accurate due to some parameters are only used in language bindings but\n",
      "  passed down to XGBoost core.  Or some parameters are not used but slip through this\n",
      "  verification. Please open an issue if you find above cases.\n",
      "\n",
      "\n",
      "[05:57:45] WARNING: C:/Users/Administrator/workspace/xgboost-win64_release_1.3.0/src/learner.cc:541: \n",
      "Parameters: { silent } might not be used.\n",
      "\n",
      "  This may not be accurate due to some parameters are only used in language bindings but\n",
      "  passed down to XGBoost core.  Or some parameters are not used but slip through this\n",
      "  verification. Please open an issue if you find above cases.\n",
      "\n",
      "\n",
      "[05:57:46] WARNING: C:/Users/Administrator/workspace/xgboost-win64_release_1.3.0/src/learner.cc:541: \n",
      "Parameters: { silent } might not be used.\n",
      "\n",
      "  This may not be accurate due to some parameters are only used in language bindings but\n",
      "  passed down to XGBoost core.  Or some parameters are not used but slip through this\n",
      "  verification. Please open an issue if you find above cases.\n",
      "\n",
      "\n",
      "Xgboost score:23.8923 (7.8613) \n",
      "\n",
      "[LightGBM] [Warning] feature_fraction is set=0.2319, colsample_bytree=1.0 will be ignored. Current value: feature_fraction=0.2319\n",
      "[LightGBM] [Warning] min_data_in_leaf is set=6, min_child_samples=20 will be ignored. Current value: min_data_in_leaf=6\n",
      "[LightGBM] [Warning] min_sum_hessian_in_leaf is set=11, min_child_weight=0.001 will be ignored. Current value: min_sum_hessian_in_leaf=11\n",
      "[LightGBM] [Warning] bagging_fraction is set=0.8, subsample=1.0 will be ignored. Current value: bagging_fraction=0.8\n",
      "[LightGBM] [Warning] bagging_freq is set=5, subsample_freq=0 will be ignored. Current value: bagging_freq=5\n",
      "[LightGBM] [Warning] feature_fraction is set=0.2319, colsample_bytree=1.0 will be ignored. Current value: feature_fraction=0.2319\n",
      "[LightGBM] [Warning] min_data_in_leaf is set=6, min_child_samples=20 will be ignored. Current value: min_data_in_leaf=6\n",
      "[LightGBM] [Warning] min_sum_hessian_in_leaf is set=11, min_child_weight=0.001 will be ignored. Current value: min_sum_hessian_in_leaf=11\n",
      "[LightGBM] [Warning] bagging_fraction is set=0.8, subsample=1.0 will be ignored. Current value: bagging_fraction=0.8\n",
      "[LightGBM] [Warning] bagging_freq is set=5, subsample_freq=0 will be ignored. Current value: bagging_freq=5\n",
      "[LightGBM] [Warning] feature_fraction is set=0.2319, colsample_bytree=1.0 will be ignored. Current value: feature_fraction=0.2319\n",
      "[LightGBM] [Warning] min_data_in_leaf is set=6, min_child_samples=20 will be ignored. Current value: min_data_in_leaf=6\n",
      "[LightGBM] [Warning] min_sum_hessian_in_leaf is set=11, min_child_weight=0.001 will be ignored. Current value: min_sum_hessian_in_leaf=11\n",
      "[LightGBM] [Warning] bagging_fraction is set=0.8, subsample=1.0 will be ignored. Current value: bagging_fraction=0.8\n",
      "[LightGBM] [Warning] bagging_freq is set=5, subsample_freq=0 will be ignored. Current value: bagging_freq=5\n",
      "[LightGBM] [Warning] feature_fraction is set=0.2319, colsample_bytree=1.0 will be ignored. Current value: feature_fraction=0.2319\n",
      "[LightGBM] [Warning] min_data_in_leaf is set=6, min_child_samples=20 will be ignored. Current value: min_data_in_leaf=6\n",
      "[LightGBM] [Warning] min_sum_hessian_in_leaf is set=11, min_child_weight=0.001 will be ignored. Current value: min_sum_hessian_in_leaf=11\n",
      "[LightGBM] [Warning] bagging_fraction is set=0.8, subsample=1.0 will be ignored. Current value: bagging_fraction=0.8\n",
      "[LightGBM] [Warning] bagging_freq is set=5, subsample_freq=0 will be ignored. Current value: bagging_freq=5\n",
      "[LightGBM] [Warning] feature_fraction is set=0.2319, colsample_bytree=1.0 will be ignored. Current value: feature_fraction=0.2319\n",
      "[LightGBM] [Warning] min_data_in_leaf is set=6, min_child_samples=20 will be ignored. Current value: min_data_in_leaf=6\n",
      "[LightGBM] [Warning] min_sum_hessian_in_leaf is set=11, min_child_weight=0.001 will be ignored. Current value: min_sum_hessian_in_leaf=11\n",
      "[LightGBM] [Warning] bagging_fraction is set=0.8, subsample=1.0 will be ignored. Current value: bagging_fraction=0.8\n",
      "[LightGBM] [Warning] bagging_freq is set=5, subsample_freq=0 will be ignored. Current value: bagging_freq=5\n",
      "LGBM score:21.0823 (8.3575) \n",
      "\n"
     ]
    }
   ],
   "source": [
    "models = [lasso, ENet, KRR, GBoost, model_xgb, model_lgb]\n",
    "names = ['Lasso', 'ELasticNet', 'KernelRidge', 'GradientBoosting', 'Xgboost', 'LGBM']\n",
    "for model, name in zip(models, names):\n",
    "    score = nmse_cv(model)\n",
    "    # 验证结果返回5个分数，求均值和标准差\n",
    "    # The verification result returns 5 scores, find the mean and standard deviation\n",
    "    print('{} score:{:.4f} ({:.4f}) \\n'.format(name, score.mean(), score.std()))"
   ]
  },
  {
   "cell_type": "markdown",
   "metadata": {},
   "source": [
    "## 4.5 Model training, prediction, evaluation"
   ]
  },
  {
   "cell_type": "markdown",
   "metadata": {},
   "source": [
    "### 4.5.1 Define evaluation function"
   ]
  },
  {
   "cell_type": "code",
   "execution_count": 297,
   "metadata": {},
   "outputs": [],
   "source": [
    "# Mean square error: The smaller the value of MSE, the better the accuracy of the prediction model\n",
    "# 均方差：MSE的值越小，预测模型具有更好的精确度\n",
    "def mse(y, y_pred):\n",
    "    return np.sqrt(mean_squared_error(y, y_pred))"
   ]
  },
  {
   "cell_type": "code",
   "execution_count": 298,
   "metadata": {},
   "outputs": [
    {
     "name": "stdout",
     "output_type": "stream",
     "text": [
      "20.842984076730847\n"
     ]
    }
   ],
   "source": [
    "lasso.fit(train.drop(['Client','profit'],axis=1).values, y_train)\n",
    "lasso_train_pred = lasso.predict(train.drop(['Client','profit'],axis=1).values)\n",
    "lasso_pred = lasso.predict(test.drop(['Client','profit'],axis=1).values)\n",
    "lasso_mse_train=(mse(y_train, lasso_train_pred))\n",
    "print(mse(y_train, lasso_train_pred))"
   ]
  },
  {
   "cell_type": "code",
   "execution_count": 299,
   "metadata": {},
   "outputs": [
    {
     "name": "stdout",
     "output_type": "stream",
     "text": [
      "20.84298407342539\n"
     ]
    }
   ],
   "source": [
    "ENet.fit(train.drop(['Client','profit'],axis=1).values, y_train)\n",
    "ENet_train_pred = ENet.predict(train.drop(['Client','profit'],axis=1).values)\n",
    "ENet_pred = ENet.predict(test.drop(['Client','profit'],axis=1).values)\n",
    "ENet_mse_train=mse(y_train, ENet_train_pred)\n",
    "print(mse(y_train, ENet_train_pred))"
   ]
  },
  {
   "cell_type": "code",
   "execution_count": 300,
   "metadata": {},
   "outputs": [
    {
     "data": {
      "text/plain": [
       "True"
      ]
     },
     "execution_count": 300,
     "metadata": {},
     "output_type": "execute_result"
    }
   ],
   "source": [
    "# compare the training MSE between lasso and ENet\n",
    "lasso_mse_train>ENet_mse_train"
   ]
  },
  {
   "cell_type": "markdown",
   "metadata": {},
   "source": [
    "### 4.5.2 prediction"
   ]
  },
  {
   "cell_type": "code",
   "execution_count": 301,
   "metadata": {},
   "outputs": [],
   "source": [
    "prediction = pd.DataFrame()\n",
    "prediction['Id'] = test['Client'].values\n",
    "prediction['profit'] = ENet_pred\n",
    "prediction.to_csv('prediction.csv', index=False)"
   ]
  },
  {
   "cell_type": "code",
   "execution_count": 302,
   "metadata": {},
   "outputs": [
    {
     "data": {
      "text/plain": [
       "643"
      ]
     },
     "execution_count": 302,
     "metadata": {},
     "output_type": "execute_result"
    }
   ],
   "source": [
    "# check the number of profotable custmer\n",
    "sum(prediction['profit']>0)"
   ]
  },
  {
   "cell_type": "code",
   "execution_count": 303,
   "metadata": {},
   "outputs": [
    {
     "data": {
      "text/html": [
       "<div>\n",
       "<style scoped>\n",
       "    .dataframe tbody tr th:only-of-type {\n",
       "        vertical-align: middle;\n",
       "    }\n",
       "\n",
       "    .dataframe tbody tr th {\n",
       "        vertical-align: top;\n",
       "    }\n",
       "\n",
       "    .dataframe thead th {\n",
       "        text-align: right;\n",
       "    }\n",
       "</style>\n",
       "<table border=\"1\" class=\"dataframe\">\n",
       "  <thead>\n",
       "    <tr style=\"text-align: right;\">\n",
       "      <th></th>\n",
       "      <th>Id</th>\n",
       "      <th>profit</th>\n",
       "    </tr>\n",
       "  </thead>\n",
       "  <tbody>\n",
       "    <tr>\n",
       "      <th>343</th>\n",
       "      <td>153</td>\n",
       "      <td>16.350180</td>\n",
       "    </tr>\n",
       "    <tr>\n",
       "      <th>620</th>\n",
       "      <td>314</td>\n",
       "      <td>14.889609</td>\n",
       "    </tr>\n",
       "    <tr>\n",
       "      <th>253</th>\n",
       "      <td>1365</td>\n",
       "      <td>14.424707</td>\n",
       "    </tr>\n",
       "    <tr>\n",
       "      <th>462</th>\n",
       "      <td>583</td>\n",
       "      <td>13.439076</td>\n",
       "    </tr>\n",
       "    <tr>\n",
       "      <th>404</th>\n",
       "      <td>350</td>\n",
       "      <td>13.306584</td>\n",
       "    </tr>\n",
       "    <tr>\n",
       "      <th>...</th>\n",
       "      <td>...</td>\n",
       "      <td>...</td>\n",
       "    </tr>\n",
       "    <tr>\n",
       "      <th>622</th>\n",
       "      <td>1604</td>\n",
       "      <td>0.857039</td>\n",
       "    </tr>\n",
       "    <tr>\n",
       "      <th>149</th>\n",
       "      <td>200</td>\n",
       "      <td>0.284185</td>\n",
       "    </tr>\n",
       "    <tr>\n",
       "      <th>288</th>\n",
       "      <td>829</td>\n",
       "      <td>-0.282104</td>\n",
       "    </tr>\n",
       "    <tr>\n",
       "      <th>341</th>\n",
       "      <td>214</td>\n",
       "      <td>-2.137089</td>\n",
       "    </tr>\n",
       "    <tr>\n",
       "      <th>414</th>\n",
       "      <td>1614</td>\n",
       "      <td>-16.928209</td>\n",
       "    </tr>\n",
       "  </tbody>\n",
       "</table>\n",
       "<p>646 rows × 2 columns</p>\n",
       "</div>"
      ],
      "text/plain": [
       "       Id     profit\n",
       "343   153  16.350180\n",
       "620   314  14.889609\n",
       "253  1365  14.424707\n",
       "462   583  13.439076\n",
       "404   350  13.306584\n",
       "..    ...        ...\n",
       "622  1604   0.857039\n",
       "149   200   0.284185\n",
       "288   829  -0.282104\n",
       "341   214  -2.137089\n",
       "414  1614 -16.928209\n",
       "\n",
       "[646 rows x 2 columns]"
      ]
     },
     "execution_count": 303,
     "metadata": {},
     "output_type": "execute_result"
    }
   ],
   "source": [
    "prediction.sort_values(by=['profit'], ascending = False)"
   ]
  },
  {
   "cell_type": "code",
   "execution_count": 304,
   "metadata": {},
   "outputs": [
    {
     "data": {
      "text/html": [
       "<div>\n",
       "<style scoped>\n",
       "    .dataframe tbody tr th:only-of-type {\n",
       "        vertical-align: middle;\n",
       "    }\n",
       "\n",
       "    .dataframe tbody tr th {\n",
       "        vertical-align: top;\n",
       "    }\n",
       "\n",
       "    .dataframe thead th {\n",
       "        text-align: right;\n",
       "    }\n",
       "</style>\n",
       "<table border=\"1\" class=\"dataframe\">\n",
       "  <thead>\n",
       "    <tr style=\"text-align: right;\">\n",
       "      <th></th>\n",
       "      <th>Id</th>\n",
       "      <th>profit</th>\n",
       "    </tr>\n",
       "  </thead>\n",
       "  <tbody>\n",
       "    <tr>\n",
       "      <th>343</th>\n",
       "      <td>153</td>\n",
       "      <td>16.350180</td>\n",
       "    </tr>\n",
       "    <tr>\n",
       "      <th>620</th>\n",
       "      <td>314</td>\n",
       "      <td>14.889609</td>\n",
       "    </tr>\n",
       "    <tr>\n",
       "      <th>253</th>\n",
       "      <td>1365</td>\n",
       "      <td>14.424707</td>\n",
       "    </tr>\n",
       "    <tr>\n",
       "      <th>462</th>\n",
       "      <td>583</td>\n",
       "      <td>13.439076</td>\n",
       "    </tr>\n",
       "    <tr>\n",
       "      <th>404</th>\n",
       "      <td>350</td>\n",
       "      <td>13.306584</td>\n",
       "    </tr>\n",
       "    <tr>\n",
       "      <th>...</th>\n",
       "      <td>...</td>\n",
       "      <td>...</td>\n",
       "    </tr>\n",
       "    <tr>\n",
       "      <th>342</th>\n",
       "      <td>592</td>\n",
       "      <td>8.118737</td>\n",
       "    </tr>\n",
       "    <tr>\n",
       "      <th>332</th>\n",
       "      <td>379</td>\n",
       "      <td>8.110111</td>\n",
       "    </tr>\n",
       "    <tr>\n",
       "      <th>83</th>\n",
       "      <td>852</td>\n",
       "      <td>8.099327</td>\n",
       "    </tr>\n",
       "    <tr>\n",
       "      <th>64</th>\n",
       "      <td>9</td>\n",
       "      <td>8.094571</td>\n",
       "    </tr>\n",
       "    <tr>\n",
       "      <th>181</th>\n",
       "      <td>176</td>\n",
       "      <td>8.069143</td>\n",
       "    </tr>\n",
       "  </tbody>\n",
       "</table>\n",
       "<p>120 rows × 2 columns</p>\n",
       "</div>"
      ],
      "text/plain": [
       "       Id     profit\n",
       "343   153  16.350180\n",
       "620   314  14.889609\n",
       "253  1365  14.424707\n",
       "462   583  13.439076\n",
       "404   350  13.306584\n",
       "..    ...        ...\n",
       "342   592   8.118737\n",
       "332   379   8.110111\n",
       "83    852   8.099327\n",
       "64      9   8.094571\n",
       "181   176   8.069143\n",
       "\n",
       "[120 rows x 2 columns]"
      ]
     },
     "execution_count": 304,
     "metadata": {},
     "output_type": "execute_result"
    }
   ],
   "source": [
    "# Select the top 120 customers with the highest profit\n",
    "prediction.sort_values(by=['profit'], ascending = False)[:120]"
   ]
  },
  {
   "cell_type": "code",
   "execution_count": 305,
   "metadata": {},
   "outputs": [],
   "source": [
    "all_profit=prediction.sort_values(by=['profit'], ascending = False)\n",
    "max_profit=prediction.sort_values(by=['profit'], ascending = False)[:120]"
   ]
  },
  {
   "cell_type": "code",
   "execution_count": 306,
   "metadata": {},
   "outputs": [
    {
     "data": {
      "text/plain": [
       "1135.9603018284984"
      ]
     },
     "execution_count": 306,
     "metadata": {},
     "output_type": "execute_result"
    }
   ],
   "source": [
    "# Calculate the total profit for the first 120 customers\n",
    "prediction.sort_values(by=['profit'], ascending = False)[:120]['profit'].sum()"
   ]
  },
  {
   "cell_type": "code",
   "execution_count": null,
   "metadata": {},
   "outputs": [],
   "source": []
  },
  {
   "cell_type": "markdown",
   "metadata": {},
   "source": [
    "## 5 Predict which products each customer will buy\n",
    "3 method of multi-label classification problem:\n",
    "* Problem Transformation\n",
    "    * Binary Relevance\n",
    "    * Classifier Chains\n",
    "    * Label Powerset\n",
    "* Adapted Algorithm\n",
    "* Ensemble approaches (not applied here)\n",
    "\n",
    "Sci-kit learn provides inbuilt support of multi-label classification in some of the algorithm like Random Forest and Ridge regression. So, we can directly call them and predict the output."
   ]
  },
  {
   "cell_type": "markdown",
   "metadata": {},
   "source": [
    "### 5.1 dada preprocessing"
   ]
  },
  {
   "cell_type": "code",
   "execution_count": 307,
   "metadata": {},
   "outputs": [
    {
     "name": "stdout",
     "output_type": "stream",
     "text": [
      "proportion of test set: 0.4\n",
      "proportion of trian set: 0.6\n"
     ]
    }
   ],
   "source": [
    "trainingSet1=trainingSet.merge(Product_sales[['Client','Sale_MF','Sale_CC','Sale_CL']],\\\n",
    "                               on='Client',how='left').drop('profit',axis=1).fillna(0)\n",
    "# building training set filter by 60% of the raw data in the Product_sales\n",
    "train=trainingSet1[trainingSet1['profit_miss']==0].drop('profit_miss',axis=1)\n",
    "test=trainingSet1[trainingSet1['profit_miss']==1].drop('profit_miss',axis=1)\n",
    "print(\"proportion of test set:\",test.shape[0]/trainingSet.shape[0])\n",
    "print(\"proportion of trian set:\",train.shape[0]/trainingSet.shape[0])\n",
    "\n",
    "partitions = partition(dataFrame = train, splitStrategy = [0.7,0.3])\n",
    "training_Set = partitions[0]\n",
    "test_Set     = partitions[1]\n",
    "\n",
    "X_train=training_Set.drop(['Sale_MF', 'Sale_CC','Sale_CL'],axis=1)\n",
    "y_train=training_Set[['Sale_MF', 'Sale_CC','Sale_CL']]\n",
    "X_test =test_Set.drop(['Sale_MF', 'Sale_CC','Sale_CL'],axis=1)\n",
    "y_test=test_Set[['Sale_MF', 'Sale_CC','Sale_CL']]"
   ]
  },
  {
   "cell_type": "code",
   "execution_count": 308,
   "metadata": {},
   "outputs": [
    {
     "data": {
      "text/html": [
       "<div>\n",
       "<style scoped>\n",
       "    .dataframe tbody tr th:only-of-type {\n",
       "        vertical-align: middle;\n",
       "    }\n",
       "\n",
       "    .dataframe tbody tr th {\n",
       "        vertical-align: top;\n",
       "    }\n",
       "\n",
       "    .dataframe thead th {\n",
       "        text-align: right;\n",
       "    }\n",
       "</style>\n",
       "<table border=\"1\" class=\"dataframe\">\n",
       "  <thead>\n",
       "    <tr style=\"text-align: right;\">\n",
       "      <th></th>\n",
       "      <th>Client</th>\n",
       "      <th>Age</th>\n",
       "      <th>LOR</th>\n",
       "      <th>Count_CA</th>\n",
       "      <th>Count_SA</th>\n",
       "      <th>Count_MF</th>\n",
       "      <th>Count_OVD</th>\n",
       "      <th>Count_CC</th>\n",
       "      <th>Count_CL</th>\n",
       "      <th>ActBal_CA</th>\n",
       "      <th>...</th>\n",
       "      <th>VolumeDeb_PaymentOrder</th>\n",
       "      <th>TransactionsDeb_CA</th>\n",
       "      <th>TransactionsDebCash_Card</th>\n",
       "      <th>TransactionsDebCashless_Card</th>\n",
       "      <th>TransactionsDeb_PaymentOrder</th>\n",
       "      <th>profit_miss</th>\n",
       "      <th>fl_Gen_is_M</th>\n",
       "      <th>Sale_MF</th>\n",
       "      <th>Sale_CC</th>\n",
       "      <th>Sale_CL</th>\n",
       "    </tr>\n",
       "  </thead>\n",
       "  <tbody>\n",
       "    <tr>\n",
       "      <th>0</th>\n",
       "      <td>909</td>\n",
       "      <td>21</td>\n",
       "      <td>27</td>\n",
       "      <td>1</td>\n",
       "      <td>0.0</td>\n",
       "      <td>0.0</td>\n",
       "      <td>1.0</td>\n",
       "      <td>0.0</td>\n",
       "      <td>1.0</td>\n",
       "      <td>4.710714</td>\n",
       "      <td>...</td>\n",
       "      <td>166.571429</td>\n",
       "      <td>7.0</td>\n",
       "      <td>1.0</td>\n",
       "      <td>0.0</td>\n",
       "      <td>4.0</td>\n",
       "      <td>1</td>\n",
       "      <td>1</td>\n",
       "      <td>0.0</td>\n",
       "      <td>0.0</td>\n",
       "      <td>0.0</td>\n",
       "    </tr>\n",
       "    <tr>\n",
       "      <th>1</th>\n",
       "      <td>1217</td>\n",
       "      <td>38</td>\n",
       "      <td>165</td>\n",
       "      <td>1</td>\n",
       "      <td>0.0</td>\n",
       "      <td>0.0</td>\n",
       "      <td>0.0</td>\n",
       "      <td>0.0</td>\n",
       "      <td>0.0</td>\n",
       "      <td>6752.244643</td>\n",
       "      <td>...</td>\n",
       "      <td>714.285714</td>\n",
       "      <td>1.0</td>\n",
       "      <td>0.0</td>\n",
       "      <td>0.0</td>\n",
       "      <td>1.0</td>\n",
       "      <td>0</td>\n",
       "      <td>1</td>\n",
       "      <td>0.0</td>\n",
       "      <td>0.0</td>\n",
       "      <td>0.0</td>\n",
       "    </tr>\n",
       "    <tr>\n",
       "      <th>2</th>\n",
       "      <td>850</td>\n",
       "      <td>49</td>\n",
       "      <td>44</td>\n",
       "      <td>1</td>\n",
       "      <td>0.0</td>\n",
       "      <td>0.0</td>\n",
       "      <td>0.0</td>\n",
       "      <td>0.0</td>\n",
       "      <td>0.0</td>\n",
       "      <td>43.523214</td>\n",
       "      <td>...</td>\n",
       "      <td>121.928571</td>\n",
       "      <td>6.0</td>\n",
       "      <td>0.0</td>\n",
       "      <td>0.0</td>\n",
       "      <td>1.0</td>\n",
       "      <td>0</td>\n",
       "      <td>0</td>\n",
       "      <td>0.0</td>\n",
       "      <td>1.0</td>\n",
       "      <td>0.0</td>\n",
       "    </tr>\n",
       "    <tr>\n",
       "      <th>3</th>\n",
       "      <td>1473</td>\n",
       "      <td>54</td>\n",
       "      <td>34</td>\n",
       "      <td>1</td>\n",
       "      <td>1.0</td>\n",
       "      <td>0.0</td>\n",
       "      <td>0.0</td>\n",
       "      <td>1.0</td>\n",
       "      <td>1.0</td>\n",
       "      <td>29.024286</td>\n",
       "      <td>...</td>\n",
       "      <td>2076.785714</td>\n",
       "      <td>38.0</td>\n",
       "      <td>1.0</td>\n",
       "      <td>26.0</td>\n",
       "      <td>11.0</td>\n",
       "      <td>0</td>\n",
       "      <td>1</td>\n",
       "      <td>1.0</td>\n",
       "      <td>0.0</td>\n",
       "      <td>0.0</td>\n",
       "    </tr>\n",
       "    <tr>\n",
       "      <th>4</th>\n",
       "      <td>1038</td>\n",
       "      <td>29</td>\n",
       "      <td>106</td>\n",
       "      <td>1</td>\n",
       "      <td>0.0</td>\n",
       "      <td>0.0</td>\n",
       "      <td>0.0</td>\n",
       "      <td>0.0</td>\n",
       "      <td>0.0</td>\n",
       "      <td>27.035714</td>\n",
       "      <td>...</td>\n",
       "      <td>0.000000</td>\n",
       "      <td>0.0</td>\n",
       "      <td>0.0</td>\n",
       "      <td>0.0</td>\n",
       "      <td>0.0</td>\n",
       "      <td>0</td>\n",
       "      <td>1</td>\n",
       "      <td>0.0</td>\n",
       "      <td>0.0</td>\n",
       "      <td>0.0</td>\n",
       "    </tr>\n",
       "    <tr>\n",
       "      <th>...</th>\n",
       "      <td>...</td>\n",
       "      <td>...</td>\n",
       "      <td>...</td>\n",
       "      <td>...</td>\n",
       "      <td>...</td>\n",
       "      <td>...</td>\n",
       "      <td>...</td>\n",
       "      <td>...</td>\n",
       "      <td>...</td>\n",
       "      <td>...</td>\n",
       "      <td>...</td>\n",
       "      <td>...</td>\n",
       "      <td>...</td>\n",
       "      <td>...</td>\n",
       "      <td>...</td>\n",
       "      <td>...</td>\n",
       "      <td>...</td>\n",
       "      <td>...</td>\n",
       "      <td>...</td>\n",
       "      <td>...</td>\n",
       "      <td>...</td>\n",
       "    </tr>\n",
       "    <tr>\n",
       "      <th>1610</th>\n",
       "      <td>409</td>\n",
       "      <td>31</td>\n",
       "      <td>91</td>\n",
       "      <td>1</td>\n",
       "      <td>0.0</td>\n",
       "      <td>0.0</td>\n",
       "      <td>1.0</td>\n",
       "      <td>0.0</td>\n",
       "      <td>0.0</td>\n",
       "      <td>348.402857</td>\n",
       "      <td>...</td>\n",
       "      <td>271.714286</td>\n",
       "      <td>12.0</td>\n",
       "      <td>1.0</td>\n",
       "      <td>1.0</td>\n",
       "      <td>9.0</td>\n",
       "      <td>1</td>\n",
       "      <td>1</td>\n",
       "      <td>0.0</td>\n",
       "      <td>0.0</td>\n",
       "      <td>0.0</td>\n",
       "    </tr>\n",
       "    <tr>\n",
       "      <th>1611</th>\n",
       "      <td>384</td>\n",
       "      <td>23</td>\n",
       "      <td>160</td>\n",
       "      <td>1</td>\n",
       "      <td>0.0</td>\n",
       "      <td>0.0</td>\n",
       "      <td>0.0</td>\n",
       "      <td>0.0</td>\n",
       "      <td>0.0</td>\n",
       "      <td>2418.876786</td>\n",
       "      <td>...</td>\n",
       "      <td>1.071429</td>\n",
       "      <td>8.0</td>\n",
       "      <td>2.0</td>\n",
       "      <td>5.0</td>\n",
       "      <td>1.0</td>\n",
       "      <td>0</td>\n",
       "      <td>1</td>\n",
       "      <td>0.0</td>\n",
       "      <td>1.0</td>\n",
       "      <td>1.0</td>\n",
       "    </tr>\n",
       "    <tr>\n",
       "      <th>1612</th>\n",
       "      <td>977</td>\n",
       "      <td>46</td>\n",
       "      <td>59</td>\n",
       "      <td>1</td>\n",
       "      <td>0.0</td>\n",
       "      <td>0.0</td>\n",
       "      <td>0.0</td>\n",
       "      <td>0.0</td>\n",
       "      <td>0.0</td>\n",
       "      <td>2639.308571</td>\n",
       "      <td>...</td>\n",
       "      <td>0.035714</td>\n",
       "      <td>4.0</td>\n",
       "      <td>2.0</td>\n",
       "      <td>1.0</td>\n",
       "      <td>1.0</td>\n",
       "      <td>0</td>\n",
       "      <td>1</td>\n",
       "      <td>1.0</td>\n",
       "      <td>0.0</td>\n",
       "      <td>0.0</td>\n",
       "    </tr>\n",
       "    <tr>\n",
       "      <th>1613</th>\n",
       "      <td>629</td>\n",
       "      <td>61</td>\n",
       "      <td>173</td>\n",
       "      <td>1</td>\n",
       "      <td>0.0</td>\n",
       "      <td>2.0</td>\n",
       "      <td>0.0</td>\n",
       "      <td>0.0</td>\n",
       "      <td>0.0</td>\n",
       "      <td>61.766786</td>\n",
       "      <td>...</td>\n",
       "      <td>115.178571</td>\n",
       "      <td>17.0</td>\n",
       "      <td>3.0</td>\n",
       "      <td>5.0</td>\n",
       "      <td>8.0</td>\n",
       "      <td>0</td>\n",
       "      <td>0</td>\n",
       "      <td>0.0</td>\n",
       "      <td>1.0</td>\n",
       "      <td>0.0</td>\n",
       "    </tr>\n",
       "    <tr>\n",
       "      <th>1614</th>\n",
       "      <td>1466</td>\n",
       "      <td>63</td>\n",
       "      <td>97</td>\n",
       "      <td>1</td>\n",
       "      <td>0.0</td>\n",
       "      <td>0.0</td>\n",
       "      <td>1.0</td>\n",
       "      <td>0.0</td>\n",
       "      <td>0.0</td>\n",
       "      <td>21.627500</td>\n",
       "      <td>...</td>\n",
       "      <td>526.392857</td>\n",
       "      <td>6.0</td>\n",
       "      <td>1.0</td>\n",
       "      <td>1.0</td>\n",
       "      <td>3.0</td>\n",
       "      <td>1</td>\n",
       "      <td>1</td>\n",
       "      <td>0.0</td>\n",
       "      <td>0.0</td>\n",
       "      <td>0.0</td>\n",
       "    </tr>\n",
       "  </tbody>\n",
       "</table>\n",
       "<p>1615 rows × 29 columns</p>\n",
       "</div>"
      ],
      "text/plain": [
       "      Client  Age  LOR  Count_CA  Count_SA  Count_MF  Count_OVD  Count_CC  \\\n",
       "0        909   21   27         1       0.0       0.0        1.0       0.0   \n",
       "1       1217   38  165         1       0.0       0.0        0.0       0.0   \n",
       "2        850   49   44         1       0.0       0.0        0.0       0.0   \n",
       "3       1473   54   34         1       1.0       0.0        0.0       1.0   \n",
       "4       1038   29  106         1       0.0       0.0        0.0       0.0   \n",
       "...      ...  ...  ...       ...       ...       ...        ...       ...   \n",
       "1610     409   31   91         1       0.0       0.0        1.0       0.0   \n",
       "1611     384   23  160         1       0.0       0.0        0.0       0.0   \n",
       "1612     977   46   59         1       0.0       0.0        0.0       0.0   \n",
       "1613     629   61  173         1       0.0       2.0        0.0       0.0   \n",
       "1614    1466   63   97         1       0.0       0.0        1.0       0.0   \n",
       "\n",
       "      Count_CL    ActBal_CA  ...  VolumeDeb_PaymentOrder  TransactionsDeb_CA  \\\n",
       "0          1.0     4.710714  ...              166.571429                 7.0   \n",
       "1          0.0  6752.244643  ...              714.285714                 1.0   \n",
       "2          0.0    43.523214  ...              121.928571                 6.0   \n",
       "3          1.0    29.024286  ...             2076.785714                38.0   \n",
       "4          0.0    27.035714  ...                0.000000                 0.0   \n",
       "...        ...          ...  ...                     ...                 ...   \n",
       "1610       0.0   348.402857  ...              271.714286                12.0   \n",
       "1611       0.0  2418.876786  ...                1.071429                 8.0   \n",
       "1612       0.0  2639.308571  ...                0.035714                 4.0   \n",
       "1613       0.0    61.766786  ...              115.178571                17.0   \n",
       "1614       0.0    21.627500  ...              526.392857                 6.0   \n",
       "\n",
       "      TransactionsDebCash_Card  TransactionsDebCashless_Card  \\\n",
       "0                          1.0                           0.0   \n",
       "1                          0.0                           0.0   \n",
       "2                          0.0                           0.0   \n",
       "3                          1.0                          26.0   \n",
       "4                          0.0                           0.0   \n",
       "...                        ...                           ...   \n",
       "1610                       1.0                           1.0   \n",
       "1611                       2.0                           5.0   \n",
       "1612                       2.0                           1.0   \n",
       "1613                       3.0                           5.0   \n",
       "1614                       1.0                           1.0   \n",
       "\n",
       "      TransactionsDeb_PaymentOrder  profit_miss  fl_Gen_is_M  Sale_MF  \\\n",
       "0                              4.0            1            1      0.0   \n",
       "1                              1.0            0            1      0.0   \n",
       "2                              1.0            0            0      0.0   \n",
       "3                             11.0            0            1      1.0   \n",
       "4                              0.0            0            1      0.0   \n",
       "...                            ...          ...          ...      ...   \n",
       "1610                           9.0            1            1      0.0   \n",
       "1611                           1.0            0            1      0.0   \n",
       "1612                           1.0            0            1      1.0   \n",
       "1613                           8.0            0            0      0.0   \n",
       "1614                           3.0            1            1      0.0   \n",
       "\n",
       "      Sale_CC  Sale_CL  \n",
       "0         0.0      0.0  \n",
       "1         0.0      0.0  \n",
       "2         1.0      0.0  \n",
       "3         0.0      0.0  \n",
       "4         0.0      0.0  \n",
       "...       ...      ...  \n",
       "1610      0.0      0.0  \n",
       "1611      1.0      1.0  \n",
       "1612      0.0      0.0  \n",
       "1613      1.0      0.0  \n",
       "1614      0.0      0.0  \n",
       "\n",
       "[1615 rows x 29 columns]"
      ]
     },
     "execution_count": 308,
     "metadata": {},
     "output_type": "execute_result"
    }
   ],
   "source": [
    "trainingSet1"
   ]
  },
  {
   "cell_type": "code",
   "execution_count": 309,
   "metadata": {},
   "outputs": [
    {
     "data": {
      "text/plain": [
       "Index(['Client', 'Age', 'LOR', 'Count_CA', 'Count_SA', 'Count_MF', 'Count_OVD',\n",
       "       'Count_CC', 'Count_CL', 'ActBal_CA', 'ActBal_SA', 'ActBal_MF',\n",
       "       'ActBal_OVD', 'ActBal_CC', 'ActBal_CL', 'TransactionsCred_CA',\n",
       "       'VolumeDeb_CA', 'VolumeDebCash_Card', 'VolumeDebCashless_Card',\n",
       "       'VolumeDeb_PaymentOrder', 'TransactionsDeb_CA',\n",
       "       'TransactionsDebCash_Card', 'TransactionsDebCashless_Card',\n",
       "       'TransactionsDeb_PaymentOrder', 'fl_Gen_is_M', 'Sale_MF', 'Sale_CC',\n",
       "       'Sale_CL'],\n",
       "      dtype='object')"
      ]
     },
     "execution_count": 309,
     "metadata": {},
     "output_type": "execute_result"
    }
   ],
   "source": [
    "training_Set.columns"
   ]
  },
  {
   "cell_type": "code",
   "execution_count": 310,
   "metadata": {},
   "outputs": [],
   "source": [
    "selected_var=['Client','ActBal_SA', 'TransactionsDebCashless_Card', 'Count_CC',\n",
    "       'VolumeDebCashless_Card', 'ActBal_CA', 'Count_CL',\n",
    "       'TransactionsCred_CA', 'ActBal_CC', 'ActBal_CL', 'ActBal_MF',\n",
    "       'ActBal_OVD', 'Count_CA', 'LOR', 'Count_SA',\n",
    "       'TransactionsDebCash_Card','Sale_MF', 'Sale_CC',\n",
    "       'Sale_CL']"
   ]
  },
  {
   "cell_type": "code",
   "execution_count": 311,
   "metadata": {},
   "outputs": [],
   "source": [
    "X_train=training_Set[selected_var].drop(['Sale_MF', 'Sale_CC','Sale_CL'],axis=1)\n",
    "y_train=training_Set[['Sale_MF', 'Sale_CC','Sale_CL']]\n",
    "X_test =test_Set[selected_var].drop(['Sale_MF', 'Sale_CC','Sale_CL'],axis=1)\n",
    "y_test=test_Set[['Sale_MF', 'Sale_CC','Sale_CL']]"
   ]
  },
  {
   "cell_type": "markdown",
   "metadata": {},
   "source": [
    "### 5.2  Binary Relevance\n",
    "\n",
    "This is the simplest technique, which basically treats each label as a separate single class classification problem."
   ]
  },
  {
   "cell_type": "code",
   "execution_count": 312,
   "metadata": {},
   "outputs": [],
   "source": [
    "# using binary relevance\n",
    "from skmultilearn.problem_transform import BinaryRelevance\n",
    "from sklearn.naive_bayes import GaussianNB\n",
    "\n",
    "# initialize binary relevance multi-label classifier\n",
    "# with a gaussian naive bayes base classifier\n",
    "classifier = BinaryRelevance(GaussianNB())\n",
    "\n",
    "# train\n",
    "classifier.fit(X_train, y_train)\n",
    "\n",
    "# predict\n",
    "predictions = classifier.predict(X_test)"
   ]
  },
  {
   "cell_type": "code",
   "execution_count": 313,
   "metadata": {},
   "outputs": [
    {
     "data": {
      "text/plain": [
       "array(['ActBal_SA', 'TransactionsDebCashless_Card', 'Count_CC',\n",
       "       'VolumeDebCashless_Card', 'ActBal_CA', 'Count_CL',\n",
       "       'TransactionsCred_CA', 'ActBal_CC', 'ActBal_CL', 'ActBal_MF',\n",
       "       'ActBal_OVD', 'Count_CA', 'LOR', 'Count_SA',\n",
       "       'TransactionsDebCash_Card'], dtype=object)"
      ]
     },
     "execution_count": 313,
     "metadata": {},
     "output_type": "execute_result"
    }
   ],
   "source": [
    "top_fs_vars"
   ]
  },
  {
   "cell_type": "markdown",
   "metadata": {},
   "source": [
    "##### 5.2.1  calculate the accuracy of our predictions"
   ]
  },
  {
   "cell_type": "code",
   "execution_count": 314,
   "metadata": {},
   "outputs": [
    {
     "data": {
      "text/plain": [
       "0.15517241379310345"
      ]
     },
     "execution_count": 314,
     "metadata": {},
     "output_type": "execute_result"
    }
   ],
   "source": [
    "from sklearn.metrics import accuracy_score\n",
    "accuracy_score(y_test,predictions)"
   ]
  },
  {
   "cell_type": "markdown",
   "metadata": {},
   "source": [
    "It is most simple and efficient method but the only drawback of this method is that it doesn’t consider labels correlation because it treats every target variable independently."
   ]
  },
  {
   "cell_type": "markdown",
   "metadata": {},
   "source": [
    "### 5.3 Classifier Chains\n",
    "\n",
    "In this, the first classifier is trained just on the input data and then each next classifier is trained on the input space and all the previous classifiers in the chain.  "
   ]
  },
  {
   "cell_type": "code",
   "execution_count": 315,
   "metadata": {},
   "outputs": [
    {
     "data": {
      "text/plain": [
       "0.15517241379310345"
      ]
     },
     "execution_count": 315,
     "metadata": {},
     "output_type": "execute_result"
    }
   ],
   "source": [
    "# using classifier chains\n",
    "from skmultilearn.problem_transform import ClassifierChain\n",
    "from sklearn.naive_bayes import GaussianNB\n",
    "\n",
    "# initialize classifier chains multi-label classifier\n",
    "# with a gaussian naive bayes base classifier\n",
    "classifier = ClassifierChain(GaussianNB())\n",
    "\n",
    "# train\n",
    "classifier.fit(X_train, y_train)\n",
    "\n",
    "# predict\n",
    "predictions = classifier.predict(X_test)\n",
    "\n",
    "accuracy_score(y_test,predictions)"
   ]
  },
  {
   "cell_type": "markdown",
   "metadata": {},
   "source": [
    "The lower accuracy is maybe due to the absence of label correlation "
   ]
  },
  {
   "cell_type": "markdown",
   "metadata": {},
   "source": [
    "### 5.4 Label Powerset\n",
    "\n",
    "It transform the problem into a multi-class problem with one multi-class classifier is trained on all unique label combinations found in the training data."
   ]
  },
  {
   "cell_type": "code",
   "execution_count": 316,
   "metadata": {},
   "outputs": [
    {
     "data": {
      "text/plain": [
       "0.06896551724137931"
      ]
     },
     "execution_count": 316,
     "metadata": {},
     "output_type": "execute_result"
    }
   ],
   "source": [
    "# using Label Powerset\n",
    "from skmultilearn.problem_transform import LabelPowerset\n",
    "from sklearn.naive_bayes import GaussianNB\n",
    "from sklearn.metrics import accuracy_score\n",
    "\n",
    "# initialize Label Powerset multi-label classifier\n",
    "# with a gaussian naive bayes base classifier\n",
    "classifier = LabelPowerset(GaussianNB())\n",
    "\n",
    "# train\n",
    "classifier.fit(X_train, y_train)\n",
    "\n",
    "# predict\n",
    "predictions = classifier.predict(X_test)\n",
    "\n",
    "accuracy_score(y_test,predictions)"
   ]
  },
  {
   "cell_type": "code",
   "execution_count": 317,
   "metadata": {},
   "outputs": [],
   "source": [
    "classifier.fit(train.drop(['Sale_MF', 'Sale_CC','Sale_CL'],axis=1),\\\n",
    "               train[['Sale_MF', 'Sale_CC','Sale_CL']])\n",
    "# predict\n",
    "product_pred = classifier.predict(test.drop(['Sale_MF', 'Sale_CC','Sale_CL'],axis=1))"
   ]
  },
  {
   "cell_type": "code",
   "execution_count": 318,
   "metadata": {},
   "outputs": [
    {
     "data": {
      "text/html": [
       "<div>\n",
       "<style scoped>\n",
       "    .dataframe tbody tr th:only-of-type {\n",
       "        vertical-align: middle;\n",
       "    }\n",
       "\n",
       "    .dataframe tbody tr th {\n",
       "        vertical-align: top;\n",
       "    }\n",
       "\n",
       "    .dataframe thead th {\n",
       "        text-align: right;\n",
       "    }\n",
       "</style>\n",
       "<table border=\"1\" class=\"dataframe\">\n",
       "  <thead>\n",
       "    <tr style=\"text-align: right;\">\n",
       "      <th></th>\n",
       "      <th>Id</th>\n",
       "      <th>profit</th>\n",
       "      <th>Sale_MF</th>\n",
       "      <th>Sale_CC</th>\n",
       "      <th>Sale_CL</th>\n",
       "    </tr>\n",
       "  </thead>\n",
       "  <tbody>\n",
       "    <tr>\n",
       "      <th>0</th>\n",
       "      <td>153</td>\n",
       "      <td>16.350180</td>\n",
       "      <td>1</td>\n",
       "      <td>0</td>\n",
       "      <td>1</td>\n",
       "    </tr>\n",
       "    <tr>\n",
       "      <th>1</th>\n",
       "      <td>314</td>\n",
       "      <td>14.889609</td>\n",
       "      <td>1</td>\n",
       "      <td>0</td>\n",
       "      <td>1</td>\n",
       "    </tr>\n",
       "    <tr>\n",
       "      <th>2</th>\n",
       "      <td>1365</td>\n",
       "      <td>14.424707</td>\n",
       "      <td>1</td>\n",
       "      <td>1</td>\n",
       "      <td>0</td>\n",
       "    </tr>\n",
       "    <tr>\n",
       "      <th>3</th>\n",
       "      <td>583</td>\n",
       "      <td>13.439076</td>\n",
       "      <td>1</td>\n",
       "      <td>0</td>\n",
       "      <td>1</td>\n",
       "    </tr>\n",
       "    <tr>\n",
       "      <th>4</th>\n",
       "      <td>350</td>\n",
       "      <td>13.306584</td>\n",
       "      <td>1</td>\n",
       "      <td>1</td>\n",
       "      <td>0</td>\n",
       "    </tr>\n",
       "    <tr>\n",
       "      <th>...</th>\n",
       "      <td>...</td>\n",
       "      <td>...</td>\n",
       "      <td>...</td>\n",
       "      <td>...</td>\n",
       "      <td>...</td>\n",
       "    </tr>\n",
       "    <tr>\n",
       "      <th>115</th>\n",
       "      <td>592</td>\n",
       "      <td>8.118737</td>\n",
       "      <td>1</td>\n",
       "      <td>1</td>\n",
       "      <td>0</td>\n",
       "    </tr>\n",
       "    <tr>\n",
       "      <th>116</th>\n",
       "      <td>379</td>\n",
       "      <td>8.110111</td>\n",
       "      <td>0</td>\n",
       "      <td>0</td>\n",
       "      <td>0</td>\n",
       "    </tr>\n",
       "    <tr>\n",
       "      <th>117</th>\n",
       "      <td>852</td>\n",
       "      <td>8.099327</td>\n",
       "      <td>1</td>\n",
       "      <td>1</td>\n",
       "      <td>0</td>\n",
       "    </tr>\n",
       "    <tr>\n",
       "      <th>118</th>\n",
       "      <td>9</td>\n",
       "      <td>8.094571</td>\n",
       "      <td>1</td>\n",
       "      <td>1</td>\n",
       "      <td>0</td>\n",
       "    </tr>\n",
       "    <tr>\n",
       "      <th>119</th>\n",
       "      <td>176</td>\n",
       "      <td>8.069143</td>\n",
       "      <td>1</td>\n",
       "      <td>1</td>\n",
       "      <td>0</td>\n",
       "    </tr>\n",
       "  </tbody>\n",
       "</table>\n",
       "<p>120 rows × 5 columns</p>\n",
       "</div>"
      ],
      "text/plain": [
       "       Id     profit  Sale_MF  Sale_CC  Sale_CL\n",
       "0     153  16.350180        1        0        1\n",
       "1     314  14.889609        1        0        1\n",
       "2    1365  14.424707        1        1        0\n",
       "3     583  13.439076        1        0        1\n",
       "4     350  13.306584        1        1        0\n",
       "..    ...        ...      ...      ...      ...\n",
       "115   592   8.118737        1        1        0\n",
       "116   379   8.110111        0        0        0\n",
       "117   852   8.099327        1        1        0\n",
       "118     9   8.094571        1        1        0\n",
       "119   176   8.069143        1        1        0\n",
       "\n",
       "[120 rows x 5 columns]"
      ]
     },
     "execution_count": 318,
     "metadata": {},
     "output_type": "execute_result"
    }
   ],
   "source": [
    "prediction_product = pd.DataFrame()\n",
    "prediction_product['Id'] = test['Client']\n",
    "prediction_product[['Sale_MF', 'Sale_CC','Sale_CL'] ]= product_pred.toarray()\n",
    "max_profit.merge(prediction_product,on='Id',how='left')"
   ]
  },
  {
   "cell_type": "markdown",
   "metadata": {},
   "source": [
    "The only disadvantage of this is that as the training data increases, number of classes become more. Thus, increasing the model complexity, and would result in a lower accuracy."
   ]
  },
  {
   "cell_type": "markdown",
   "metadata": {},
   "source": [
    "### 5.4 Adapted Algorithm\n",
    "\n",
    "Adapted algorithm, as the name suggests, adapting the algorithm to directly perform multi-label classification, rather than transforming the problem into different subsets of problems."
   ]
  },
  {
   "cell_type": "code",
   "execution_count": 319,
   "metadata": {
    "scrolled": true
   },
   "outputs": [
    {
     "name": "stderr",
     "output_type": "stream",
     "text": [
      "C:\\Users\\MRZHE\\anaconda3\\lib\\site-packages\\sklearn\\utils\\validation.py:70: FutureWarning: Pass n_neighbors=20 as keyword args. From version 1.0 (renaming of 0.25) passing these as positional arguments will result in an error\n",
      "  warnings.warn(f\"Pass {args_msg} as keyword args. From version \"\n"
     ]
    },
    {
     "data": {
      "text/plain": [
       "0.42758620689655175"
      ]
     },
     "execution_count": 319,
     "metadata": {},
     "output_type": "execute_result"
    }
   ],
   "source": [
    "from skmultilearn.adapt import MLkNN\n",
    "\n",
    "classifier = MLkNN(k=20)\n",
    "\n",
    "# train\n",
    "classifier.fit(X_train, y_train.values)\n",
    "\n",
    "# predict\n",
    "predictions = classifier.predict(X_test)\n",
    "\n",
    "accuracy_score(y_test.values,predictions)\n"
   ]
  },
  {
   "cell_type": "code",
   "execution_count": 320,
   "metadata": {},
   "outputs": [
    {
     "name": "stderr",
     "output_type": "stream",
     "text": [
      "C:\\Users\\MRZHE\\anaconda3\\lib\\site-packages\\sklearn\\utils\\validation.py:70: FutureWarning: Pass n_neighbors=20 as keyword args. From version 1.0 (renaming of 0.25) passing these as positional arguments will result in an error\n",
      "  warnings.warn(f\"Pass {args_msg} as keyword args. From version \"\n"
     ]
    }
   ],
   "source": [
    "classifier.fit(train.drop(['Sale_MF', 'Sale_CC','Sale_CL'],axis=1),\\\n",
    "               train[['Sale_MF', 'Sale_CC','Sale_CL']].values)\n",
    "# predict\n",
    "product_pred = classifier.predict(test.drop(['Sale_MF', 'Sale_CC','Sale_CL'],axis=1))\n",
    "prediction_product = pd.DataFrame()\n",
    "prediction_product['Id'] = test['Client']\n",
    "prediction_product[['Sale_MF', 'Sale_CC','Sale_CL'] ]= product_pred.toarray()"
   ]
  },
  {
   "cell_type": "code",
   "execution_count": 321,
   "metadata": {},
   "outputs": [
    {
     "data": {
      "text/html": [
       "<div>\n",
       "<style scoped>\n",
       "    .dataframe tbody tr th:only-of-type {\n",
       "        vertical-align: middle;\n",
       "    }\n",
       "\n",
       "    .dataframe tbody tr th {\n",
       "        vertical-align: top;\n",
       "    }\n",
       "\n",
       "    .dataframe thead th {\n",
       "        text-align: right;\n",
       "    }\n",
       "</style>\n",
       "<table border=\"1\" class=\"dataframe\">\n",
       "  <thead>\n",
       "    <tr style=\"text-align: right;\">\n",
       "      <th></th>\n",
       "      <th>Id</th>\n",
       "      <th>profit</th>\n",
       "      <th>Sale_MF</th>\n",
       "      <th>Sale_CC</th>\n",
       "      <th>Sale_CL</th>\n",
       "    </tr>\n",
       "  </thead>\n",
       "  <tbody>\n",
       "    <tr>\n",
       "      <th>0</th>\n",
       "      <td>153</td>\n",
       "      <td>16.350180</td>\n",
       "      <td>0</td>\n",
       "      <td>0</td>\n",
       "      <td>0</td>\n",
       "    </tr>\n",
       "    <tr>\n",
       "      <th>1</th>\n",
       "      <td>314</td>\n",
       "      <td>14.889609</td>\n",
       "      <td>0</td>\n",
       "      <td>0</td>\n",
       "      <td>1</td>\n",
       "    </tr>\n",
       "    <tr>\n",
       "      <th>2</th>\n",
       "      <td>1365</td>\n",
       "      <td>14.424707</td>\n",
       "      <td>0</td>\n",
       "      <td>0</td>\n",
       "      <td>0</td>\n",
       "    </tr>\n",
       "    <tr>\n",
       "      <th>3</th>\n",
       "      <td>583</td>\n",
       "      <td>13.439076</td>\n",
       "      <td>0</td>\n",
       "      <td>0</td>\n",
       "      <td>0</td>\n",
       "    </tr>\n",
       "    <tr>\n",
       "      <th>4</th>\n",
       "      <td>350</td>\n",
       "      <td>13.306584</td>\n",
       "      <td>0</td>\n",
       "      <td>0</td>\n",
       "      <td>0</td>\n",
       "    </tr>\n",
       "    <tr>\n",
       "      <th>...</th>\n",
       "      <td>...</td>\n",
       "      <td>...</td>\n",
       "      <td>...</td>\n",
       "      <td>...</td>\n",
       "      <td>...</td>\n",
       "    </tr>\n",
       "    <tr>\n",
       "      <th>115</th>\n",
       "      <td>592</td>\n",
       "      <td>8.118737</td>\n",
       "      <td>0</td>\n",
       "      <td>1</td>\n",
       "      <td>0</td>\n",
       "    </tr>\n",
       "    <tr>\n",
       "      <th>116</th>\n",
       "      <td>379</td>\n",
       "      <td>8.110111</td>\n",
       "      <td>0</td>\n",
       "      <td>0</td>\n",
       "      <td>0</td>\n",
       "    </tr>\n",
       "    <tr>\n",
       "      <th>117</th>\n",
       "      <td>852</td>\n",
       "      <td>8.099327</td>\n",
       "      <td>0</td>\n",
       "      <td>0</td>\n",
       "      <td>0</td>\n",
       "    </tr>\n",
       "    <tr>\n",
       "      <th>118</th>\n",
       "      <td>9</td>\n",
       "      <td>8.094571</td>\n",
       "      <td>0</td>\n",
       "      <td>0</td>\n",
       "      <td>0</td>\n",
       "    </tr>\n",
       "    <tr>\n",
       "      <th>119</th>\n",
       "      <td>176</td>\n",
       "      <td>8.069143</td>\n",
       "      <td>0</td>\n",
       "      <td>0</td>\n",
       "      <td>0</td>\n",
       "    </tr>\n",
       "  </tbody>\n",
       "</table>\n",
       "<p>120 rows × 5 columns</p>\n",
       "</div>"
      ],
      "text/plain": [
       "       Id     profit  Sale_MF  Sale_CC  Sale_CL\n",
       "0     153  16.350180        0        0        0\n",
       "1     314  14.889609        0        0        1\n",
       "2    1365  14.424707        0        0        0\n",
       "3     583  13.439076        0        0        0\n",
       "4     350  13.306584        0        0        0\n",
       "..    ...        ...      ...      ...      ...\n",
       "115   592   8.118737        0        1        0\n",
       "116   379   8.110111        0        0        0\n",
       "117   852   8.099327        0        0        0\n",
       "118     9   8.094571        0        0        0\n",
       "119   176   8.069143        0        0        0\n",
       "\n",
       "[120 rows x 5 columns]"
      ]
     },
     "execution_count": 321,
     "metadata": {},
     "output_type": "execute_result"
    }
   ],
   "source": [
    "# top 120 highest profit customers\n",
    "highest_profit_120=max_profit.merge(prediction_product,on='Id',how='left')\n",
    "highest_profit_120"
   ]
  },
  {
   "cell_type": "code",
   "execution_count": 322,
   "metadata": {},
   "outputs": [
    {
     "name": "stdout",
     "output_type": "stream",
     "text": [
      "The total profit of customers who could buy products: 281.33988790665643\n",
      "The number of customer who could buy products: 29\n"
     ]
    }
   ],
   "source": [
    "# the profit of highest_profit_120 is only 139\n",
    "# the number of customer couldt buy of highest_profit_120 is only 14\n",
    "print('The total profit of customers who could buy products:',highest_profit_120[(highest_profit_120.Sale_MF==1)| (highest_profit_120.Sale_CC==1)| (highest_profit_120.Sale_CL==1)].profit.sum())\n",
    "print('The number of customer who could buy products:',highest_profit_120[(highest_profit_120.Sale_MF==1)| (highest_profit_120.Sale_CC==1)| (highest_profit_120.Sale_CL==1)].Id.count())"
   ]
  },
  {
   "cell_type": "code",
   "execution_count": 323,
   "metadata": {},
   "outputs": [
    {
     "name": "stdout",
     "output_type": "stream",
     "text": [
      "The number of customer who could buy products: 104\n"
     ]
    }
   ],
   "source": [
    "# to show how many customers would buy the products in our predicted data\n",
    "print('The number of customer who could buy products:',prediction_product[(prediction_product.Sale_MF==1)| (prediction_product.Sale_CC==1)| (prediction_product.Sale_CL==1)].Id.count())"
   ]
  },
  {
   "cell_type": "code",
   "execution_count": 324,
   "metadata": {
    "scrolled": true
   },
   "outputs": [
    {
     "data": {
      "text/plain": [
       "(646, 4)"
      ]
     },
     "execution_count": 324,
     "metadata": {},
     "output_type": "execute_result"
    }
   ],
   "source": [
    "prediction_product.shape"
   ]
  },
  {
   "cell_type": "code",
   "execution_count": 325,
   "metadata": {},
   "outputs": [
    {
     "data": {
      "text/html": [
       "<div>\n",
       "<style scoped>\n",
       "    .dataframe tbody tr th:only-of-type {\n",
       "        vertical-align: middle;\n",
       "    }\n",
       "\n",
       "    .dataframe tbody tr th {\n",
       "        vertical-align: top;\n",
       "    }\n",
       "\n",
       "    .dataframe thead th {\n",
       "        text-align: right;\n",
       "    }\n",
       "</style>\n",
       "<table border=\"1\" class=\"dataframe\">\n",
       "  <thead>\n",
       "    <tr style=\"text-align: right;\">\n",
       "      <th></th>\n",
       "      <th>Id</th>\n",
       "      <th>profit</th>\n",
       "      <th>Sale_MF</th>\n",
       "      <th>Sale_CC</th>\n",
       "      <th>Sale_CL</th>\n",
       "    </tr>\n",
       "  </thead>\n",
       "  <tbody>\n",
       "    <tr>\n",
       "      <th>1</th>\n",
       "      <td>314</td>\n",
       "      <td>14.889609</td>\n",
       "      <td>0</td>\n",
       "      <td>0</td>\n",
       "      <td>1</td>\n",
       "    </tr>\n",
       "    <tr>\n",
       "      <th>6</th>\n",
       "      <td>668</td>\n",
       "      <td>12.945053</td>\n",
       "      <td>0</td>\n",
       "      <td>1</td>\n",
       "      <td>0</td>\n",
       "    </tr>\n",
       "    <tr>\n",
       "      <th>7</th>\n",
       "      <td>1373</td>\n",
       "      <td>12.455326</td>\n",
       "      <td>0</td>\n",
       "      <td>0</td>\n",
       "      <td>1</td>\n",
       "    </tr>\n",
       "    <tr>\n",
       "      <th>8</th>\n",
       "      <td>760</td>\n",
       "      <td>11.977732</td>\n",
       "      <td>0</td>\n",
       "      <td>1</td>\n",
       "      <td>0</td>\n",
       "    </tr>\n",
       "    <tr>\n",
       "      <th>9</th>\n",
       "      <td>1200</td>\n",
       "      <td>11.845068</td>\n",
       "      <td>0</td>\n",
       "      <td>0</td>\n",
       "      <td>1</td>\n",
       "    </tr>\n",
       "    <tr>\n",
       "      <th>...</th>\n",
       "      <td>...</td>\n",
       "      <td>...</td>\n",
       "      <td>...</td>\n",
       "      <td>...</td>\n",
       "      <td>...</td>\n",
       "    </tr>\n",
       "    <tr>\n",
       "      <th>616</th>\n",
       "      <td>246</td>\n",
       "      <td>3.296783</td>\n",
       "      <td>0</td>\n",
       "      <td>0</td>\n",
       "      <td>1</td>\n",
       "    </tr>\n",
       "    <tr>\n",
       "      <th>627</th>\n",
       "      <td>411</td>\n",
       "      <td>2.467968</td>\n",
       "      <td>0</td>\n",
       "      <td>1</td>\n",
       "      <td>0</td>\n",
       "    </tr>\n",
       "    <tr>\n",
       "      <th>635</th>\n",
       "      <td>1414</td>\n",
       "      <td>1.962967</td>\n",
       "      <td>0</td>\n",
       "      <td>1</td>\n",
       "      <td>0</td>\n",
       "    </tr>\n",
       "    <tr>\n",
       "      <th>638</th>\n",
       "      <td>1098</td>\n",
       "      <td>1.372692</td>\n",
       "      <td>0</td>\n",
       "      <td>0</td>\n",
       "      <td>1</td>\n",
       "    </tr>\n",
       "    <tr>\n",
       "      <th>639</th>\n",
       "      <td>676</td>\n",
       "      <td>1.347837</td>\n",
       "      <td>0</td>\n",
       "      <td>0</td>\n",
       "      <td>1</td>\n",
       "    </tr>\n",
       "  </tbody>\n",
       "</table>\n",
       "<p>104 rows × 5 columns</p>\n",
       "</div>"
      ],
      "text/plain": [
       "       Id     profit  Sale_MF  Sale_CC  Sale_CL\n",
       "1     314  14.889609        0        0        1\n",
       "6     668  12.945053        0        1        0\n",
       "7    1373  12.455326        0        0        1\n",
       "8     760  11.977732        0        1        0\n",
       "9    1200  11.845068        0        0        1\n",
       "..    ...        ...      ...      ...      ...\n",
       "616   246   3.296783        0        0        1\n",
       "627   411   2.467968        0        1        0\n",
       "635  1414   1.962967        0        1        0\n",
       "638  1098   1.372692        0        0        1\n",
       "639   676   1.347837        0        0        1\n",
       "\n",
       "[104 rows x 5 columns]"
      ]
     },
     "execution_count": 325,
     "metadata": {},
     "output_type": "execute_result"
    }
   ],
   "source": [
    "# get all the customers would buy the products with their profit\n",
    "c=all_profit.merge(prediction_product,on='Id',how='left')\n",
    "top104=c[(c.Sale_MF==1)| (c.Sale_CC==1)| (c.Sale_CL==1) & (c.profit>=0)]\n",
    "top104"
   ]
  },
  {
   "cell_type": "code",
   "execution_count": 326,
   "metadata": {
    "scrolled": true
   },
   "outputs": [
    {
     "data": {
      "text/plain": [
       "(16, 5)"
      ]
     },
     "execution_count": 326,
     "metadata": {},
     "output_type": "execute_result"
    }
   ],
   "source": [
    "# get top 16 of customers would not buy the products and profit>0\n",
    "bottom16=c[(c.Sale_MF==0)& (c.Sale_CC==0)& (c.Sale_CL==0) & (c.profit>0)].sort_values(by=['profit'], ascending = False)[:16]\n",
    "bottom16.shape"
   ]
  },
  {
   "cell_type": "code",
   "execution_count": 333,
   "metadata": {},
   "outputs": [
    {
     "data": {
      "text/html": [
       "<div>\n",
       "<style scoped>\n",
       "    .dataframe tbody tr th:only-of-type {\n",
       "        vertical-align: middle;\n",
       "    }\n",
       "\n",
       "    .dataframe tbody tr th {\n",
       "        vertical-align: top;\n",
       "    }\n",
       "\n",
       "    .dataframe thead th {\n",
       "        text-align: right;\n",
       "    }\n",
       "</style>\n",
       "<table border=\"1\" class=\"dataframe\">\n",
       "  <thead>\n",
       "    <tr style=\"text-align: right;\">\n",
       "      <th></th>\n",
       "      <th>Id</th>\n",
       "      <th>profit</th>\n",
       "      <th>Sale_MF</th>\n",
       "      <th>Sale_CC</th>\n",
       "      <th>Sale_CL</th>\n",
       "    </tr>\n",
       "  </thead>\n",
       "  <tbody>\n",
       "    <tr>\n",
       "      <th>0</th>\n",
       "      <td>153</td>\n",
       "      <td>16.350180</td>\n",
       "      <td>0</td>\n",
       "      <td>0</td>\n",
       "      <td>0</td>\n",
       "    </tr>\n",
       "    <tr>\n",
       "      <th>1</th>\n",
       "      <td>314</td>\n",
       "      <td>14.889609</td>\n",
       "      <td>0</td>\n",
       "      <td>0</td>\n",
       "      <td>1</td>\n",
       "    </tr>\n",
       "    <tr>\n",
       "      <th>2</th>\n",
       "      <td>1365</td>\n",
       "      <td>14.424707</td>\n",
       "      <td>0</td>\n",
       "      <td>0</td>\n",
       "      <td>0</td>\n",
       "    </tr>\n",
       "    <tr>\n",
       "      <th>3</th>\n",
       "      <td>583</td>\n",
       "      <td>13.439076</td>\n",
       "      <td>0</td>\n",
       "      <td>0</td>\n",
       "      <td>0</td>\n",
       "    </tr>\n",
       "    <tr>\n",
       "      <th>4</th>\n",
       "      <td>350</td>\n",
       "      <td>13.306584</td>\n",
       "      <td>0</td>\n",
       "      <td>0</td>\n",
       "      <td>0</td>\n",
       "    </tr>\n",
       "    <tr>\n",
       "      <th>...</th>\n",
       "      <td>...</td>\n",
       "      <td>...</td>\n",
       "      <td>...</td>\n",
       "      <td>...</td>\n",
       "      <td>...</td>\n",
       "    </tr>\n",
       "    <tr>\n",
       "      <th>616</th>\n",
       "      <td>246</td>\n",
       "      <td>3.296783</td>\n",
       "      <td>0</td>\n",
       "      <td>0</td>\n",
       "      <td>1</td>\n",
       "    </tr>\n",
       "    <tr>\n",
       "      <th>627</th>\n",
       "      <td>411</td>\n",
       "      <td>2.467968</td>\n",
       "      <td>0</td>\n",
       "      <td>1</td>\n",
       "      <td>0</td>\n",
       "    </tr>\n",
       "    <tr>\n",
       "      <th>635</th>\n",
       "      <td>1414</td>\n",
       "      <td>1.962967</td>\n",
       "      <td>0</td>\n",
       "      <td>1</td>\n",
       "      <td>0</td>\n",
       "    </tr>\n",
       "    <tr>\n",
       "      <th>638</th>\n",
       "      <td>1098</td>\n",
       "      <td>1.372692</td>\n",
       "      <td>0</td>\n",
       "      <td>0</td>\n",
       "      <td>1</td>\n",
       "    </tr>\n",
       "    <tr>\n",
       "      <th>639</th>\n",
       "      <td>676</td>\n",
       "      <td>1.347837</td>\n",
       "      <td>0</td>\n",
       "      <td>0</td>\n",
       "      <td>1</td>\n",
       "    </tr>\n",
       "  </tbody>\n",
       "</table>\n",
       "<p>120 rows × 5 columns</p>\n",
       "</div>"
      ],
      "text/plain": [
       "       Id     profit  Sale_MF  Sale_CC  Sale_CL\n",
       "0     153  16.350180        0        0        0\n",
       "1     314  14.889609        0        0        1\n",
       "2    1365  14.424707        0        0        0\n",
       "3     583  13.439076        0        0        0\n",
       "4     350  13.306584        0        0        0\n",
       "..    ...        ...      ...      ...      ...\n",
       "616   246   3.296783        0        0        1\n",
       "627   411   2.467968        0        1        0\n",
       "635  1414   1.962967        0        1        0\n",
       "638  1098   1.372692        0        0        1\n",
       "639   676   1.347837        0        0        1\n",
       "\n",
       "[120 rows x 5 columns]"
      ]
     },
     "execution_count": 333,
     "metadata": {},
     "output_type": "execute_result"
    }
   ],
   "source": [
    "# get the final table of top 120 profitable custpmers\n",
    "final_sub=pd.concat([top104,bottom16],axis=0).sort_values(by=['profit'], ascending = False)\n",
    "final_sub"
   ]
  },
  {
   "cell_type": "code",
   "execution_count": 334,
   "metadata": {},
   "outputs": [
    {
     "name": "stdout",
     "output_type": "stream",
     "text": [
      "The total profit of customers who could buy products: 711.2923898406971\n"
     ]
    }
   ],
   "source": [
    "# The total profit \n",
    "print('The total profit of customers who could buy products:',final_sub[(final_sub.Sale_MF==1)| (final_sub.Sale_CC==1)| (final_sub.Sale_CL==1)].profit.sum())"
   ]
  },
  {
   "cell_type": "code",
   "execution_count": 332,
   "metadata": {},
   "outputs": [],
   "source": [
    "final_sub.to_csv('submit1.csv', index=False)"
   ]
  },
  {
   "cell_type": "markdown",
   "metadata": {},
   "source": [
    "References:\n",
    "\n",
    "https://scikit-learn.org/stable/modules/multiclass.html\n",
    "    \n",
    "https://www.youtube.com/watch?v=-EIfb6vFJzc&t=25s\n",
    "\n",
    "http://scikit.ml/api/skmultilearn.html\n",
    "\n",
    "https://www.analyticsvidhya.com/blog/2017/08/introduction-to-multi-label-classification/\n",
    "\n",
    "https://stratos-initiative.org/sites/default/files/HEC16-Heinze-TG2-Varsel.pdf\n",
    "\n",
    "https://onlinelibrary.wiley.com/doi/pdf/10.1111/tri.12895\n",
    "\n",
    "https://www.youtube.com/watch?v=bN0OU7jeObI\n",
    "\n",
    "https://scikit-learn.org/stable/modules/model_evaluation.html#scoring-parameter\n",
    "\n",
    "https://scikit-learn.org/stable/modules/generated/sklearn.kernel_ridge.KernelRidge.html"
   ]
  }
 ],
 "metadata": {
  "kernelspec": {
   "display_name": "Python 3",
   "language": "python",
   "name": "python3"
  },
  "language_info": {
   "codemirror_mode": {
    "name": "ipython",
    "version": 3
   },
   "file_extension": ".py",
   "mimetype": "text/x-python",
   "name": "python",
   "nbconvert_exporter": "python",
   "pygments_lexer": "ipython3",
   "version": "3.8.5"
  }
 },
 "nbformat": 4,
 "nbformat_minor": 4
}
